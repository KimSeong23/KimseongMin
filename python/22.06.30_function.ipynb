{
 "cells": [
  {
   "cell_type": "markdown",
   "id": "7ff1ce8a",
   "metadata": {},
   "source": [
    "#### 함수란?\n",
    "- 하나의 특별한 목적의 작업을 수해앟기 위해 독립적으로 설계된 코드의 집합\n",
    "\n",
    "#### 함수를 사용하는 이유\n",
    "- 반복적인 프로그래밍을 피할 수 있어 효율이 높아진다.\n",
    "- 모튤화로 인해 전체적인 코드의 가독성이 좋아진다.\n",
    "    - 모듈화 : 프로그래밍 언어로 프로그램을 제작시, 최적화 및 관리에 용이하게 기능 단위로 분할하는 것\n",
    "- 프로그램에 문제가 발생하거나 기능 변경이 필요할 때에도 손쉽게 유지 보수가 가능하다."
   ]
  },
  {
   "cell_type": "markdown",
   "id": "bf926914",
   "metadata": {},
   "source": [
    "def 함수명(매개변수):  \n",
    "    실행문장  \n",
    "    return 반환 변수"
   ]
  },
  {
   "cell_type": "code",
   "execution_count": 1,
   "id": "72278b76",
   "metadata": {},
   "outputs": [],
   "source": [
    "def num_sum(num1, num2):\n",
    "    result = num1 + num2\n",
    "    return result"
   ]
  },
  {
   "cell_type": "code",
   "execution_count": 2,
   "id": "d07c490b",
   "metadata": {},
   "outputs": [
    {
     "data": {
      "text/plain": [
       "3"
      ]
     },
     "execution_count": 2,
     "metadata": {},
     "output_type": "execute_result"
    }
   ],
   "source": [
    "number = num_sum(1,2)\n",
    "number"
   ]
  },
  {
   "cell_type": "code",
   "execution_count": 8,
   "id": "e6d8f2d6",
   "metadata": {},
   "outputs": [
    {
     "name": "stdout",
     "output_type": "stream",
     "text": [
      "첫 번째 정수 입력 >> 10\n",
      "두 번째 정수 입력 >> 7\n"
     ]
    },
    {
     "data": {
      "text/plain": [
       "3"
      ]
     },
     "execution_count": 8,
     "metadata": {},
     "output_type": "execute_result"
    }
   ],
   "source": [
    "def number_minus(num1, num2):\n",
    "    if num1 >= num2:\n",
    "        result = num1 - num2\n",
    "    else:\n",
    "        result = num2 - num1\n",
    "    return result\n",
    "num1 = int(input(\"첫 번째 정수 입력 >> \"))\n",
    "num2 = int(input(\"두 번째 정수 입력 >> \"))\n",
    "result = number_minus(num1,num2)\n",
    "result"
   ]
  },
  {
   "cell_type": "code",
   "execution_count": 4,
   "id": "0bbe787d",
   "metadata": {},
   "outputs": [
    {
     "name": "stdout",
     "output_type": "stream",
     "text": [
      "문자열 입력 >> ㅋ\n"
     ]
    },
    {
     "data": {
      "text/plain": [
       "''"
      ]
     },
     "execution_count": 4,
     "metadata": {},
     "output_type": "execute_result"
    }
   ],
   "source": [
    "def s_replace(s):\n",
    "    result = s.replace(\"ㅋ\",\"\")\n",
    "    return result\n",
    "s = input(\"문자열 입력 >> \")\n",
    "result = s_replace(s)\n",
    "result"
   ]
  },
  {
   "cell_type": "code",
   "execution_count": 5,
   "id": "9d231eea",
   "metadata": {},
   "outputs": [
    {
     "data": {
      "text/plain": [
       "'여러분들 오늘 오전에 캐꿀'"
      ]
     },
     "execution_count": 5,
     "metadata": {},
     "output_type": "execute_result"
    }
   ],
   "source": [
    "s = \"여러분들 오늘 오전에 캐꿀ㅋㅋㅋㅋㅋㅋㅋ\"\n",
    "s.strip(\"ㅋ\")"
   ]
  },
  {
   "cell_type": "code",
   "execution_count": 6,
   "id": "63bb46b0",
   "metadata": {},
   "outputs": [
    {
     "name": "stdout",
     "output_type": "stream",
     "text": [
      "첫 번째 정수 입력 >> 4\n",
      "두 번째 정수 입력 >> 7\n",
      "연산자 입력(+,-) >> +\n",
      "결과 : 11\n"
     ]
    }
   ],
   "source": [
    "def cal(num1, num2, op):\n",
    "    \"\"\"덧셈과 뺄셈을 하는 함수\"\"\"\n",
    "    if op == \"+\":\n",
    "        result = num1 + num2\n",
    "    elif op == \"-\":\n",
    "        if num1 > num2:\n",
    "            result = num1 - num2\n",
    "        else:\n",
    "            result = num2 - num1\n",
    "    return result\n",
    "num1 = int(input(\"첫 번째 정수 입력 >> \"))\n",
    "num2 = int(input(\"두 번째 정수 입력 >> \"))\n",
    "op = input(\"연산자 입력(+,-) >> \")\n",
    "result = cal(num1, num2, op)\n",
    "print(\"결과 : {}\".format(result))"
   ]
  },
  {
   "cell_type": "code",
   "execution_count": 7,
   "id": "02b3de7c",
   "metadata": {},
   "outputs": [
    {
     "name": "stdout",
     "output_type": "stream",
     "text": [
      "1 2 5 10 "
     ]
    }
   ],
   "source": [
    "def divisor(num):\n",
    "    for i in range(1,num+1):\n",
    "        if num % i == 0:\n",
    "            print(i, end= \" \")\n",
    "\n",
    "divisor(10)"
   ]
  },
  {
   "cell_type": "markdown",
   "id": "d0482f33",
   "metadata": {},
   "source": [
    "def 함수명(*매개변수):\n",
    "    변수\n",
    "        \n"
   ]
  },
  {
   "cell_type": "code",
   "execution_count": 15,
   "id": "76879bbb",
   "metadata": {},
   "outputs": [],
   "source": [
    "def add(*args):\n",
    "    return sum(args)"
   ]
  },
  {
   "cell_type": "code",
   "execution_count": 16,
   "id": "027ce478",
   "metadata": {},
   "outputs": [
    {
     "data": {
      "text/plain": [
       "6"
      ]
     },
     "execution_count": 16,
     "metadata": {},
     "output_type": "execute_result"
    }
   ],
   "source": [
    "add(1,2,3)"
   ]
  },
  {
   "cell_type": "code",
   "execution_count": 17,
   "id": "a1b2305d",
   "metadata": {},
   "outputs": [
    {
     "data": {
      "text/plain": [
       "55"
      ]
     },
     "execution_count": 17,
     "metadata": {},
     "output_type": "execute_result"
    }
   ],
   "source": [
    "add(1,2,3,4,5,6,7,8,9,10)"
   ]
  },
  {
   "cell_type": "code",
   "execution_count": 18,
   "id": "2a42648b",
   "metadata": {},
   "outputs": [
    {
     "data": {
      "text/plain": [
       "3"
      ]
     },
     "execution_count": 18,
     "metadata": {},
     "output_type": "execute_result"
    }
   ],
   "source": [
    "sum((1,2))"
   ]
  },
  {
   "cell_type": "code",
   "execution_count": 21,
   "id": "68aede8e",
   "metadata": {},
   "outputs": [
    {
     "name": "stdout",
     "output_type": "stream",
     "text": [
      "첫 번째 정수 입력 >> 7\n",
      "두 번째 정수 입력 >> 3\n",
      "연산자 입력(+,-)) >> -\n",
      "결과 : 4\n"
     ]
    }
   ],
   "source": [
    "def cal(num1, num2,op):\n",
    "    if op=='+':\n",
    "        result=num1+num2\n",
    "    elif op=='-' and num1>=num2:\n",
    "        result=num1-num2\n",
    "    elif op=='-' and num2>num1:\n",
    "        result=num2-num1\n",
    "    return result\n",
    "num1 = int(input(\"첫 번째 정수 입력 >> \"))\n",
    "num2 = int(input(\"두 번째 정수 입력 >> \"))\n",
    "op = input(\"연산자 입력(+,-)) >> \")\n",
    "result = cal(num1, num2,op)\n",
    "print(f\"결과 : {result}\")"
   ]
  },
  {
   "cell_type": "code",
   "execution_count": 19,
   "id": "bac2530e",
   "metadata": {},
   "outputs": [],
   "source": [
    "review_naver = [\"월 스미스가 하드캐리ㅋㅋㅋㅋㅋㅋㅋ\",\n",
    "               \"쟈스민 너무 멋지고 팬 엄청나게 생길듯ㅋㅋ\",\n",
    "               \"기대보다 더욱 재밌는 영화였다^^\"\n",
    "               ]\n",
    "review_google = [\"색감도 노래도 너무 화려하고 재밌었어요ㅋㅋㅋ\",\n",
    "               \"오늘부터 디즈니 팬입니다ㅋㅋㅋ\",\n",
    "               \"디즈니의 새로운 해석도 놀랍고, 윌스미스도 신의한수!\"\n",
    "                ]\n",
    "\n",
    "\n",
    "def col (num_list):\n",
    "    for i in num_list:\n",
    "        print(i.replace(\"ㅋ\",\"\"))\n",
    "\n"
   ]
  },
  {
   "cell_type": "code",
   "execution_count": 21,
   "id": "cad2bd1e",
   "metadata": {},
   "outputs": [
    {
     "name": "stdout",
     "output_type": "stream",
     "text": [
      "월 스미스가 하드캐리\n",
      "쟈스민 너무 멋지고 팬 엄청나게 생길듯\n",
      "기대보다 더욱 재밌는 영화였다^^\n",
      "색감도 노래도 너무 화려하고 재밌었어요\n",
      "오늘부터 디즈니 팬입니다\n",
      "디즈니의 새로운 해석도 놀랍고, 윌스미스도 신의한수!\n"
     ]
    }
   ],
   "source": [
    "col(review_naver)\n",
    "col(review_google)"
   ]
  },
  {
   "cell_type": "code",
   "execution_count": null,
   "id": "f3f5af34",
   "metadata": {},
   "outputs": [],
   "source": []
  },
  {
   "cell_type": "code",
   "execution_count": null,
   "id": "48e69be0",
   "metadata": {},
   "outputs": [],
   "source": []
  }
 ],
 "metadata": {
  "kernelspec": {
   "display_name": "Python 3 (ipykernel)",
   "language": "python",
   "name": "python3"
  },
  "language_info": {
   "codemirror_mode": {
    "name": "ipython",
    "version": 3
   },
   "file_extension": ".py",
   "mimetype": "text/x-python",
   "name": "python",
   "nbconvert_exporter": "python",
   "pygments_lexer": "ipython3",
   "version": "3.9.12"
  }
 },
 "nbformat": 4,
 "nbformat_minor": 5
}
