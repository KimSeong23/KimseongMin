{
 "cells": [
  {
   "cell_type": "markdown",
   "id": "e2b15d1f",
   "metadata": {},
   "source": [
    "### 딕셔너리란?\n",
    "\n",
    "- 리스트,튜플과는 또 다른 파이썬의 자료구조 형태 중 하나\n",
    "- \"people\"이라는 단어는 \"사람\",\"baseball\"이라는 단어는 \"야구\"에 부합되듯이 dictionary는 Key와 value를 한쌍으로 갖는 자료형\n",
    "- 딕셔너리타입은 immutable(불변)한 Key와 mutalble(변할 수있는)한 value로 맵핑되어 있는 순서가 없는 집합\n",
    "예) 4명의 사람이 있고 각각의 특기를 표현하기 위해서는 리스트나 문자열로는 표현하기 까다로움 -> 딕셔너리 사용"
   ]
  },
  {
   "cell_type": "markdown",
   "id": "88b978e5",
   "metadata": {},
   "source": [
    "#### 딕셔너리={Key:Value, Key:Value,...}\n",
    "- Key에는 변하지 않는 값을 사용하고, Value에는 변하는 값과 변하지 않는 값 모두 사용할 수 있다."
   ]
  },
  {
   "cell_type": "code",
   "execution_count": 21,
   "id": "a1570fb4",
   "metadata": {},
   "outputs": [
    {
     "data": {
      "text/plain": [
       "{'name': 'SM', 'age': 21, 'phone': '010-0000-0000'}"
      ]
     },
     "execution_count": 21,
     "metadata": {},
     "output_type": "execute_result"
    }
   ],
   "source": [
    "dic1 = {\"name\":\"SM\", \"age\":21, \"phone\":\"010-0000-0000\"}\n",
    "dic1"
   ]
  },
  {
   "cell_type": "code",
   "execution_count": 2,
   "id": "45c32d49",
   "metadata": {},
   "outputs": [
    {
     "name": "stdout",
     "output_type": "stream",
     "text": [
      "<class 'dict'>\n"
     ]
    }
   ],
   "source": [
    "print(type(dic1))"
   ]
  },
  {
   "cell_type": "code",
   "execution_count": 22,
   "id": "6c1655b2",
   "metadata": {},
   "outputs": [],
   "source": [
    "dic1['birth'] = '06/07'"
   ]
  },
  {
   "cell_type": "code",
   "execution_count": 4,
   "id": "21db985d",
   "metadata": {},
   "outputs": [
    {
     "data": {
      "text/plain": [
       "{'name': 'SM', 'age': 21, 'phone': '010-0000-0000', 'birth': '06/07'}"
      ]
     },
     "execution_count": 4,
     "metadata": {},
     "output_type": "execute_result"
    }
   ],
   "source": [
    "dic1"
   ]
  },
  {
   "cell_type": "code",
   "execution_count": 6,
   "id": "5a466248",
   "metadata": {},
   "outputs": [],
   "source": [
    "dic_test = {'노래제목':'참고사항'}"
   ]
  },
  {
   "cell_type": "code",
   "execution_count": 7,
   "id": "eff0533e",
   "metadata": {},
   "outputs": [],
   "source": [
    "dic_test['가수'] = '이무진'"
   ]
  },
  {
   "cell_type": "code",
   "execution_count": 8,
   "id": "6c9aa796",
   "metadata": {},
   "outputs": [],
   "source": [
    "dic_test['날짜'] = '2022.06.23'"
   ]
  },
  {
   "cell_type": "code",
   "execution_count": 9,
   "id": "a11ce077",
   "metadata": {},
   "outputs": [
    {
     "data": {
      "text/plain": [
       "{'노래제목': '참고사항', '가수': '이무진', '날짜': '2022.06.23'}"
      ]
     },
     "execution_count": 9,
     "metadata": {},
     "output_type": "execute_result"
    }
   ],
   "source": [
    "dic_test"
   ]
  },
  {
   "cell_type": "code",
   "execution_count": 10,
   "id": "a3ac857a",
   "metadata": {},
   "outputs": [],
   "source": [
    "del dic1['age']"
   ]
  },
  {
   "cell_type": "code",
   "execution_count": 11,
   "id": "37965bef",
   "metadata": {},
   "outputs": [
    {
     "data": {
      "text/plain": [
       "{'name': 'SM', 'phone': '010-0000-0000', 'birth': '06/07'}"
      ]
     },
     "execution_count": 11,
     "metadata": {},
     "output_type": "execute_result"
    }
   ],
   "source": [
    "dic1"
   ]
  },
  {
   "cell_type": "code",
   "execution_count": 12,
   "id": "8fbd0b5f",
   "metadata": {},
   "outputs": [
    {
     "data": {
      "text/plain": [
       "'SM'"
      ]
     },
     "execution_count": 12,
     "metadata": {},
     "output_type": "execute_result"
    }
   ],
   "source": [
    "dic1['name']"
   ]
  },
  {
   "cell_type": "code",
   "execution_count": 13,
   "id": "6cf9c4c5",
   "metadata": {},
   "outputs": [
    {
     "data": {
      "text/plain": [
       "'06/07'"
      ]
     },
     "execution_count": 13,
     "metadata": {},
     "output_type": "execute_result"
    }
   ],
   "source": [
    "dic1['birth']"
   ]
  },
  {
   "cell_type": "code",
   "execution_count": 15,
   "id": "9225b1f6",
   "metadata": {},
   "outputs": [
    {
     "data": {
      "text/plain": [
       "'SM'"
      ]
     },
     "execution_count": 15,
     "metadata": {},
     "output_type": "execute_result"
    }
   ],
   "source": [
    "dic1.get('name')"
   ]
  },
  {
   "cell_type": "code",
   "execution_count": 16,
   "id": "60667a1b",
   "metadata": {},
   "outputs": [
    {
     "data": {
      "text/plain": [
       "'06/07'"
      ]
     },
     "execution_count": 16,
     "metadata": {},
     "output_type": "execute_result"
    }
   ],
   "source": [
    "dic1.get('birth')"
   ]
  },
  {
   "cell_type": "code",
   "execution_count": 19,
   "id": "2057eba7",
   "metadata": {},
   "outputs": [
    {
     "ename": "KeyError",
     "evalue": "'gender'",
     "output_type": "error",
     "traceback": [
      "\u001b[1;31m---------------------------------------------------------------------------\u001b[0m",
      "\u001b[1;31mKeyError\u001b[0m                                  Traceback (most recent call last)",
      "Input \u001b[1;32mIn [19]\u001b[0m, in \u001b[0;36m<cell line: 1>\u001b[1;34m()\u001b[0m\n\u001b[1;32m----> 1\u001b[0m gender \u001b[38;5;241m=\u001b[39m \u001b[43mdic1\u001b[49m\u001b[43m[\u001b[49m\u001b[38;5;124;43m'\u001b[39;49m\u001b[38;5;124;43mgender\u001b[39;49m\u001b[38;5;124;43m'\u001b[39;49m\u001b[43m]\u001b[49m\n\u001b[0;32m      2\u001b[0m \u001b[38;5;28mprint\u001b[39m(gender)\n",
      "\u001b[1;31mKeyError\u001b[0m: 'gender'"
     ]
    }
   ],
   "source": [
    "gender = dic1['gender']\n",
    "print(gender)"
   ]
  },
  {
   "cell_type": "code",
   "execution_count": 20,
   "id": "51f46f4c",
   "metadata": {},
   "outputs": [
    {
     "name": "stdout",
     "output_type": "stream",
     "text": [
      "None\n"
     ]
    }
   ],
   "source": [
    "gender = dic1.get('gender')\n",
    "print(gender)"
   ]
  },
  {
   "cell_type": "code",
   "execution_count": 23,
   "id": "f581c47d",
   "metadata": {},
   "outputs": [
    {
     "data": {
      "text/plain": [
       "dict_keys(['name', 'age', 'phone', 'birth'])"
      ]
     },
     "execution_count": 23,
     "metadata": {},
     "output_type": "execute_result"
    }
   ],
   "source": [
    "dic1.keys()"
   ]
  },
  {
   "cell_type": "code",
   "execution_count": 24,
   "id": "968f2cd9",
   "metadata": {},
   "outputs": [
    {
     "data": {
      "text/plain": [
       "['name', 'age', 'phone', 'birth']"
      ]
     },
     "execution_count": 24,
     "metadata": {},
     "output_type": "execute_result"
    }
   ],
   "source": [
    "list(dic1.keys())"
   ]
  },
  {
   "cell_type": "code",
   "execution_count": 25,
   "id": "e6c11d3e",
   "metadata": {},
   "outputs": [
    {
     "data": {
      "text/plain": [
       "dict_values(['SM', 21, '010-0000-0000', '06/07'])"
      ]
     },
     "execution_count": 25,
     "metadata": {},
     "output_type": "execute_result"
    }
   ],
   "source": [
    "dic1.values()"
   ]
  },
  {
   "cell_type": "code",
   "execution_count": 26,
   "id": "30221ccf",
   "metadata": {},
   "outputs": [
    {
     "data": {
      "text/plain": [
       "['SM', 21, '010-0000-0000', '06/07']"
      ]
     },
     "execution_count": 26,
     "metadata": {},
     "output_type": "execute_result"
    }
   ],
   "source": [
    "list(dic1.values())"
   ]
  },
  {
   "cell_type": "code",
   "execution_count": 27,
   "id": "6c0c8aba",
   "metadata": {},
   "outputs": [
    {
     "name": "stdout",
     "output_type": "stream",
     "text": [
      "name\n",
      "age\n",
      "phone\n",
      "birth\n"
     ]
    }
   ],
   "source": [
    "for key in dic1.keys():\n",
    "    print(key)"
   ]
  },
  {
   "cell_type": "code",
   "execution_count": 28,
   "id": "e24eb086",
   "metadata": {},
   "outputs": [
    {
     "name": "stdout",
     "output_type": "stream",
     "text": [
      "SM\n",
      "21\n",
      "010-0000-0000\n",
      "06/07\n"
     ]
    }
   ],
   "source": [
    "for value in dic1.values():\n",
    "    print(value)"
   ]
  },
  {
   "cell_type": "code",
   "execution_count": 29,
   "id": "c29620cd",
   "metadata": {},
   "outputs": [
    {
     "name": "stdout",
     "output_type": "stream",
     "text": [
      "name \t SM\n",
      "age \t 21\n",
      "phone \t 010-0000-0000\n",
      "birth \t 06/07\n"
     ]
    }
   ],
   "source": [
    "for key, value in dic1.items():\n",
    "    print(key, \"\\t\", value)"
   ]
  },
  {
   "cell_type": "code",
   "execution_count": 30,
   "id": "3ebae72a",
   "metadata": {},
   "outputs": [
    {
     "data": {
      "text/plain": [
       "True"
      ]
     },
     "execution_count": 30,
     "metadata": {},
     "output_type": "execute_result"
    }
   ],
   "source": [
    "'name' in dic1"
   ]
  },
  {
   "cell_type": "code",
   "execution_count": 31,
   "id": "21cb0f9e",
   "metadata": {},
   "outputs": [
    {
     "data": {
      "text/plain": [
       "False"
      ]
     },
     "execution_count": 31,
     "metadata": {},
     "output_type": "execute_result"
    }
   ],
   "source": [
    "'gender' in dic1"
   ]
  },
  {
   "cell_type": "code",
   "execution_count": 32,
   "id": "118ecbeb",
   "metadata": {},
   "outputs": [
    {
     "data": {
      "text/plain": [
       "True"
      ]
     },
     "execution_count": 32,
     "metadata": {},
     "output_type": "execute_result"
    }
   ],
   "source": [
    "'phone' in dic1"
   ]
  },
  {
   "cell_type": "code",
   "execution_count": 39,
   "id": "34e4d003",
   "metadata": {},
   "outputs": [
    {
     "data": {
      "text/plain": [
       "False"
      ]
     },
     "execution_count": 39,
     "metadata": {},
     "output_type": "execute_result"
    }
   ],
   "source": [
    "\"21\" in dic1"
   ]
  },
  {
   "cell_type": "code",
   "execution_count": 40,
   "id": "33df3c25",
   "metadata": {},
   "outputs": [],
   "source": [
    "dic1.clear()"
   ]
  },
  {
   "cell_type": "code",
   "execution_count": 41,
   "id": "04b2a113",
   "metadata": {},
   "outputs": [
    {
     "data": {
      "text/plain": [
       "{}"
      ]
     },
     "execution_count": 41,
     "metadata": {},
     "output_type": "execute_result"
    }
   ],
   "source": [
    "dic1"
   ]
  },
  {
   "cell_type": "code",
   "execution_count": null,
   "id": "a830ca51",
   "metadata": {},
   "outputs": [],
   "source": []
  }
 ],
 "metadata": {
  "kernelspec": {
   "display_name": "Python 3 (ipykernel)",
   "language": "python",
   "name": "python3"
  },
  "language_info": {
   "codemirror_mode": {
    "name": "ipython",
    "version": 3
   },
   "file_extension": ".py",
   "mimetype": "text/x-python",
   "name": "python",
   "nbconvert_exporter": "python",
   "pygments_lexer": "ipython3",
   "version": "3.9.12"
  }
 },
 "nbformat": 4,
 "nbformat_minor": 5
}
