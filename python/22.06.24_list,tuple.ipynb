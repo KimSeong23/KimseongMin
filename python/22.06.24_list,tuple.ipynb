{
 "cells": [
  {
   "cell_type": "code",
   "execution_count": 1,
   "id": "a37936dc",
   "metadata": {},
   "outputs": [
    {
     "name": "stdout",
     "output_type": "stream",
     "text": [
      "2\n",
      "9\n",
      "17\n"
     ]
    }
   ],
   "source": [
    "list1 = [2, 5, 7, 9, 10]\n",
    "print(list1[0])\n",
    "print(list1[3])\n",
    "print(list1[2]+ list1[-1])"
   ]
  },
  {
   "cell_type": "code",
   "execution_count": 2,
   "id": "c23e67a8",
   "metadata": {},
   "outputs": [
    {
     "name": "stdout",
     "output_type": "stream",
     "text": [
      "['a', 'b', 'c']\n"
     ]
    }
   ],
   "source": [
    "list2 = [1,2,3, ['a', 'b', 'c']]\n",
    "temp = list2[3]\n",
    "print(temp)"
   ]
  },
  {
   "cell_type": "code",
   "execution_count": 3,
   "id": "12b01edb",
   "metadata": {},
   "outputs": [
    {
     "name": "stdout",
     "output_type": "stream",
     "text": [
      "b\n"
     ]
    }
   ],
   "source": [
    "print(list2[3][1])"
   ]
  },
  {
   "cell_type": "code",
   "execution_count": 5,
   "id": "f08d044d",
   "metadata": {},
   "outputs": [
    {
     "data": {
      "text/plain": [
       "[0, 1]"
      ]
     },
     "execution_count": 5,
     "metadata": {},
     "output_type": "execute_result"
    }
   ],
   "source": [
    "list3[:2]"
   ]
  },
  {
   "cell_type": "code",
   "execution_count": 6,
   "id": "22888ebd",
   "metadata": {},
   "outputs": [
    {
     "data": {
      "text/plain": [
       "[3, 4]"
      ]
     },
     "execution_count": 6,
     "metadata": {},
     "output_type": "execute_result"
    }
   ],
   "source": [
    "list3[3:]"
   ]
  },
  {
   "cell_type": "code",
   "execution_count": 7,
   "id": "f25320be",
   "metadata": {},
   "outputs": [
    {
     "data": {
      "text/plain": [
       "[3]"
      ]
     },
     "execution_count": 7,
     "metadata": {},
     "output_type": "execute_result"
    }
   ],
   "source": [
    "list3[3:4]"
   ]
  },
  {
   "cell_type": "code",
   "execution_count": 4,
   "id": "3e548909",
   "metadata": {},
   "outputs": [
    {
     "data": {
      "text/plain": [
       "[1, 2]"
      ]
     },
     "execution_count": 4,
     "metadata": {},
     "output_type": "execute_result"
    }
   ],
   "source": [
    "list3 = [0, 1, 2, 3, 4]\n",
    "list3[1:3]"
   ]
  },
  {
   "cell_type": "code",
   "execution_count": 8,
   "id": "c34b9145",
   "metadata": {},
   "outputs": [
    {
     "data": {
      "text/plain": [
       "[1, 2, 3, 3, 4, 5, 6]"
      ]
     },
     "execution_count": 8,
     "metadata": {},
     "output_type": "execute_result"
    }
   ],
   "source": [
    "list4 = [1, 2, 3]\n",
    "list5 = [3, 4, 5, 6]\n",
    "list4+list5"
   ]
  },
  {
   "cell_type": "markdown",
   "id": "27208bee",
   "metadata": {},
   "source": [
    "### 리스트 추가1"
   ]
  },
  {
   "cell_type": "code",
   "execution_count": 9,
   "id": "afd8e06b",
   "metadata": {},
   "outputs": [
    {
     "data": {
      "text/plain": [
       "[0, 1, 2, 3, 4, 5]"
      ]
     },
     "execution_count": 9,
     "metadata": {},
     "output_type": "execute_result"
    }
   ],
   "source": [
    "list5 = [0, 1, 2, 3, 4]\n",
    "list5.append(5)\n",
    "list5"
   ]
  },
  {
   "cell_type": "code",
   "execution_count": 10,
   "id": "71ff80f2",
   "metadata": {},
   "outputs": [
    {
     "data": {
      "text/plain": [
       "[0, 1, 2, 3, 4, 5, 6]"
      ]
     },
     "execution_count": 10,
     "metadata": {},
     "output_type": "execute_result"
    }
   ],
   "source": [
    "list5.append(6)\n",
    "list5"
   ]
  },
  {
   "cell_type": "code",
   "execution_count": 11,
   "id": "2a369514",
   "metadata": {},
   "outputs": [],
   "source": [
    "list_ = ['사과', '포도', ['수박','맬론'], '복숭아', '딸기', '오렌지']\n",
    "a = list_[0]\n",
    "b = list_[2][0]\n",
    "c = list_[-1]\n",
    "choice_list = []\n",
    "choice_list.append(a)\n",
    "choice_list.append(c)\n",
    "choice_list.append(b)"
   ]
  },
  {
   "cell_type": "code",
   "execution_count": 12,
   "id": "761e4e55",
   "metadata": {},
   "outputs": [
    {
     "data": {
      "text/plain": [
       "['사과', '오렌지', '수박']"
      ]
     },
     "execution_count": 12,
     "metadata": {},
     "output_type": "execute_result"
    }
   ],
   "source": [
    "choice_list"
   ]
  },
  {
   "cell_type": "markdown",
   "id": "ba2cc001",
   "metadata": {},
   "source": [
    "### 리스트 추가 2"
   ]
  },
  {
   "cell_type": "code",
   "execution_count": 13,
   "id": "009a4f68",
   "metadata": {},
   "outputs": [
    {
     "data": {
      "text/plain": [
       "[0, 5, 1, 2, 3, 4]"
      ]
     },
     "execution_count": 13,
     "metadata": {},
     "output_type": "execute_result"
    }
   ],
   "source": [
    "list5 = [0, 1, 2, 3, 4]\n",
    "list5 .insert(1,5)\n",
    "list5"
   ]
  },
  {
   "cell_type": "code",
   "execution_count": 14,
   "id": "11d6dbfd",
   "metadata": {},
   "outputs": [
    {
     "data": {
      "text/plain": [
       "[0, 5, 1, 2, 3, 6, 4]"
      ]
     },
     "execution_count": 14,
     "metadata": {},
     "output_type": "execute_result"
    }
   ],
   "source": [
    "list5.insert(5,6)\n",
    "list5"
   ]
  },
  {
   "cell_type": "code",
   "execution_count": 15,
   "id": "49dfa763",
   "metadata": {},
   "outputs": [
    {
     "data": {
      "text/plain": [
       "[['LOVE DIVE', '아이브'], ['TOMBOY', '(여자)아이들'], ['That That', '싸이']]"
      ]
     },
     "execution_count": 15,
     "metadata": {},
     "output_type": "execute_result"
    }
   ],
   "source": [
    "music_list = [[\"LOVE DIVE\", \"아이브\"],\n",
    "             [\"TOMBOY\", \"(여자)아이들\"],\n",
    "             [\"That That\", \"싸이\"]]\n",
    "\n",
    "music_list"
   ]
  },
  {
   "cell_type": "code",
   "execution_count": 16,
   "id": "2e2b9f31",
   "metadata": {},
   "outputs": [
    {
     "data": {
      "text/plain": [
       "[['LOVE DIVE', '아이브'],\n",
       " ['사랑인가봐', '멜로망스'],\n",
       " ['TOMBOY', '(여자)아이들'],\n",
       " ['That That', '싸이']]"
      ]
     },
     "execution_count": 16,
     "metadata": {},
     "output_type": "execute_result"
    }
   ],
   "source": [
    "music_list.insert(1, [\"사랑인가봐\", \"멜로망스\"])\n",
    "music_list"
   ]
  },
  {
   "cell_type": "code",
   "execution_count": 17,
   "id": "6beee8ab",
   "metadata": {},
   "outputs": [
    {
     "data": {
      "text/plain": [
       "[['LOVE DIVE', '아이브'],\n",
       " ['사랑인가봐', '멜로망스'],\n",
       " ['TOMBOY', '(여자)아이들'],\n",
       " ['봄여름가을겨울', '빅뱅'],\n",
       " ['That That', '싸이']]"
      ]
     },
     "execution_count": 17,
     "metadata": {},
     "output_type": "execute_result"
    }
   ],
   "source": [
    "music_list.insert(3, [\"봄여름가을겨울\", \"빅뱅\"])\n",
    "music_list"
   ]
  },
  {
   "cell_type": "code",
   "execution_count": 18,
   "id": "f5ec930c",
   "metadata": {},
   "outputs": [
    {
     "name": "stdout",
     "output_type": "stream",
     "text": [
      "인덱스 입력 >> 4\n",
      "노래 제목 >> 내x에게\n",
      "가수명 >> 상이\n"
     ]
    },
    {
     "data": {
      "text/plain": [
       "[['LOVE DIVE', '아이브'],\n",
       " ['사랑인가봐', '멜로망스'],\n",
       " ['TOMBOY', '(여자)아이들'],\n",
       " ['봄여름가을겨울', '빅뱅'],\n",
       " ['내x에게', '상이'],\n",
       " ['That That', '싸이']]"
      ]
     },
     "execution_count": 18,
     "metadata": {},
     "output_type": "execute_result"
    }
   ],
   "source": [
    "index_value = int(input('인덱스 입력 >> '))\n",
    "song = input(\"노래 제목 >> \")\n",
    "singer = input(\"가수명 >> \")\n",
    "\n",
    "music_list.insert(index_value, [song,singer])\n",
    "music_list"
   ]
  },
  {
   "cell_type": "markdown",
   "id": "a5b60a39",
   "metadata": {},
   "source": [
    "### 리스트 수정"
   ]
  },
  {
   "cell_type": "code",
   "execution_count": 19,
   "id": "6dd78475",
   "metadata": {},
   "outputs": [
    {
     "data": {
      "text/plain": [
       "[0, 1, 2, 3, 4]"
      ]
     },
     "execution_count": 19,
     "metadata": {},
     "output_type": "execute_result"
    }
   ],
   "source": [
    "list6 = [0, 1, 2, 3, 4]\n",
    "list6"
   ]
  },
  {
   "cell_type": "code",
   "execution_count": 20,
   "id": "f14b38d6",
   "metadata": {},
   "outputs": [
    {
     "name": "stdout",
     "output_type": "stream",
     "text": [
      "수정 전 : 1\n",
      "수정 후 : 7\n"
     ]
    }
   ],
   "source": [
    "print(\"수정 전 :\", list6[1])\n",
    "list6[1] = 7\n",
    "print(\"수정 후 :\", list6[1])"
   ]
  },
  {
   "cell_type": "code",
   "execution_count": 21,
   "id": "074589bb",
   "metadata": {},
   "outputs": [
    {
     "data": {
      "text/plain": [
       "[0, 7, 2, 3, 4]"
      ]
     },
     "execution_count": 21,
     "metadata": {},
     "output_type": "execute_result"
    }
   ],
   "source": [
    "list6"
   ]
  },
  {
   "cell_type": "code",
   "execution_count": 22,
   "id": "82241a1a",
   "metadata": {},
   "outputs": [
    {
     "ename": "TypeError",
     "evalue": "can only assign an iterable",
     "output_type": "error",
     "traceback": [
      "\u001b[1;31m---------------------------------------------------------------------------\u001b[0m",
      "\u001b[1;31mTypeError\u001b[0m                                 Traceback (most recent call last)",
      "Input \u001b[1;32mIn [22]\u001b[0m, in \u001b[0;36m<cell line: 1>\u001b[1;34m()\u001b[0m\n\u001b[1;32m----> 1\u001b[0m list6[\u001b[38;5;241m2\u001b[39m:\u001b[38;5;241m4\u001b[39m] \u001b[38;5;241m=\u001b[39m \u001b[38;5;241m7\u001b[39m\n",
      "\u001b[1;31mTypeError\u001b[0m: can only assign an iterable"
     ]
    }
   ],
   "source": [
    "list6[2:4] = 7"
   ]
  },
  {
   "cell_type": "code",
   "execution_count": 23,
   "id": "22f1bcfb",
   "metadata": {},
   "outputs": [
    {
     "name": "stdout",
     "output_type": "stream",
     "text": [
      "[2, 3]\n"
     ]
    },
    {
     "data": {
      "text/plain": [
       "[0, 7, 7, 4]"
      ]
     },
     "execution_count": 23,
     "metadata": {},
     "output_type": "execute_result"
    }
   ],
   "source": [
    "print(list6[2:4])\n",
    "list6[2:4] = [7]\n",
    "list6"
   ]
  },
  {
   "cell_type": "code",
   "execution_count": 1,
   "id": "304c142f",
   "metadata": {},
   "outputs": [
    {
     "name": "stdout",
     "output_type": "stream",
     "text": [
      "[1, 2, 3, 4, 7]\n"
     ]
    }
   ],
   "source": [
    "# 리스트 array에 숫자 5을 7로 바꾸시오\n",
    "array = [1, 2, 3, 4, 5]\n",
    "array[-1] = 7\n",
    "print(array)"
   ]
  },
  {
   "cell_type": "code",
   "execution_count": 25,
   "id": "c5ac033d",
   "metadata": {},
   "outputs": [
    {
     "name": "stdout",
     "output_type": "stream",
     "text": [
      "[1, ['a', 'b', 'c'], 3, 4, 7]\n"
     ]
    }
   ],
   "source": [
    "# 리스트 array에 숫자 2를 리스트 ['a', 'b', 'c']로 바꾸시오\n",
    "array[1] = ['a','b','c']\n",
    "print(array)"
   ]
  },
  {
   "cell_type": "code",
   "execution_count": 26,
   "id": "c726c263",
   "metadata": {},
   "outputs": [
    {
     "name": "stdout",
     "output_type": "stream",
     "text": [
      "[1, ['a', 'b', 'c'], 3, 'd', 'e', 'f', 'g']\n"
     ]
    }
   ],
   "source": [
    "# 리스트 array에 4,7를 'd', 'e', 'f', 'g'로 바꾸시오\n",
    "array[3:] = ['d','e','f','g']\n",
    "print(array)"
   ]
  },
  {
   "cell_type": "code",
   "execution_count": 27,
   "id": "6b920c1d",
   "metadata": {},
   "outputs": [
    {
     "name": "stdout",
     "output_type": "stream",
     "text": [
      "['h', 'i', 'j', ['a', 'b', 'c'], 3, 'd', 'e', 'f', 'g']\n"
     ]
    }
   ],
   "source": [
    "#리스트  array에 1을 'h', 'i', 'j'로 바꾸시오\n",
    "array[:1] = ['h','i','j']\n",
    "print(array)"
   ]
  },
  {
   "cell_type": "markdown",
   "id": "ef50cfe2",
   "metadata": {},
   "source": [
    "### 삭제 1"
   ]
  },
  {
   "cell_type": "code",
   "execution_count": 28,
   "id": "18130caf",
   "metadata": {},
   "outputs": [
    {
     "data": {
      "text/plain": [
       "[0, 2, 3, 4, 5]"
      ]
     },
     "execution_count": 28,
     "metadata": {},
     "output_type": "execute_result"
    }
   ],
   "source": [
    "list7 = [0, 1, 2, 3, 4, 5]\n",
    "del list7[1]\n",
    "list7"
   ]
  },
  {
   "cell_type": "code",
   "execution_count": 29,
   "id": "fae7dff2",
   "metadata": {},
   "outputs": [
    {
     "data": {
      "text/plain": [
       "[0, 5]"
      ]
     },
     "execution_count": 29,
     "metadata": {},
     "output_type": "execute_result"
    }
   ],
   "source": [
    "list7 = [0, 1, 2, 3, 4, 5]\n",
    "del list7[1:5]\n",
    "list7"
   ]
  },
  {
   "cell_type": "markdown",
   "id": "1440f48e",
   "metadata": {},
   "source": [
    "### 삭제 2"
   ]
  },
  {
   "cell_type": "code",
   "execution_count": 30,
   "id": "eeef09f6",
   "metadata": {},
   "outputs": [
    {
     "data": {
      "text/plain": [
       "['a', 'c', 'd', 'e']"
      ]
     },
     "execution_count": 30,
     "metadata": {},
     "output_type": "execute_result"
    }
   ],
   "source": [
    "list7 = ['a', 'b', 'c', 'd', 'e']\n",
    "list7.remove('b')\n",
    "list7"
   ]
  },
  {
   "cell_type": "code",
   "execution_count": 31,
   "id": "d1425937",
   "metadata": {},
   "outputs": [
    {
     "ename": "ValueError",
     "evalue": "list.remove(x): x not in list",
     "output_type": "error",
     "traceback": [
      "\u001b[1;31m---------------------------------------------------------------------------\u001b[0m",
      "\u001b[1;31mValueError\u001b[0m                                Traceback (most recent call last)",
      "Input \u001b[1;32mIn [31]\u001b[0m, in \u001b[0;36m<cell line: 1>\u001b[1;34m()\u001b[0m\n\u001b[1;32m----> 1\u001b[0m \u001b[43mlist7\u001b[49m\u001b[38;5;241;43m.\u001b[39;49m\u001b[43mremove\u001b[49m\u001b[43m(\u001b[49m\u001b[38;5;124;43m'\u001b[39;49m\u001b[38;5;124;43mb\u001b[39;49m\u001b[38;5;124;43m'\u001b[39;49m\u001b[43m)\u001b[49m\n",
      "\u001b[1;31mValueError\u001b[0m: list.remove(x): x not in list"
     ]
    }
   ],
   "source": [
    "list7.remove('b')"
   ]
  },
  {
   "cell_type": "markdown",
   "id": "ec0d7e89",
   "metadata": {},
   "source": [
    "### 오름차순 정렬"
   ]
  },
  {
   "cell_type": "code",
   "execution_count": 32,
   "id": "4680966f",
   "metadata": {},
   "outputs": [
    {
     "data": {
      "text/plain": [
       "[9, 77, 13, 51, 100, 3]"
      ]
     },
     "execution_count": 32,
     "metadata": {},
     "output_type": "execute_result"
    }
   ],
   "source": [
    "list8 = [9, 77, 13, 51, 100, 3]\n",
    "list8"
   ]
  },
  {
   "cell_type": "code",
   "execution_count": 33,
   "id": "51559bdb",
   "metadata": {},
   "outputs": [
    {
     "data": {
      "text/plain": [
       "[3, 9, 13, 51, 77, 100]"
      ]
     },
     "execution_count": 33,
     "metadata": {},
     "output_type": "execute_result"
    }
   ],
   "source": [
    "list8.sort()\n",
    "list8"
   ]
  },
  {
   "cell_type": "markdown",
   "id": "aca45c95",
   "metadata": {},
   "source": [
    "### 역순 정렬"
   ]
  },
  {
   "cell_type": "code",
   "execution_count": 34,
   "id": "b14d1acf",
   "metadata": {},
   "outputs": [
    {
     "data": {
      "text/plain": [
       "[9, 77, 13, 51, 100, 3]"
      ]
     },
     "execution_count": 34,
     "metadata": {},
     "output_type": "execute_result"
    }
   ],
   "source": [
    "list9 = [9, 77, 13, 51, 100, 3]\n",
    "list9"
   ]
  },
  {
   "cell_type": "code",
   "execution_count": 35,
   "id": "6bb03020",
   "metadata": {},
   "outputs": [
    {
     "data": {
      "text/plain": [
       "[3, 100, 51, 13, 77, 9]"
      ]
     },
     "execution_count": 35,
     "metadata": {},
     "output_type": "execute_result"
    }
   ],
   "source": [
    "list9.reverse()\n",
    "list9"
   ]
  },
  {
   "cell_type": "markdown",
   "id": "5f1319b1",
   "metadata": {},
   "source": [
    "### 내림차순 정렬"
   ]
  },
  {
   "cell_type": "code",
   "execution_count": 36,
   "id": "dacbc53c",
   "metadata": {},
   "outputs": [
    {
     "data": {
      "text/plain": [
       "[100, 77, 51, 13, 9, 3]"
      ]
     },
     "execution_count": 36,
     "metadata": {},
     "output_type": "execute_result"
    }
   ],
   "source": [
    "list10 = [9, 77, 13, 51, 100, 3]\n",
    "list10.sort()\n",
    "list10.reverse()\n",
    "list10"
   ]
  },
  {
   "cell_type": "code",
   "execution_count": 37,
   "id": "dcb8808b",
   "metadata": {},
   "outputs": [
    {
     "data": {
      "text/plain": [
       "[100, 77, 51, 13, 9, 3]"
      ]
     },
     "execution_count": 37,
     "metadata": {},
     "output_type": "execute_result"
    }
   ],
   "source": [
    "# 내림차순 정렬\n",
    "list10 = [9, 77, 13, 51, 100, 3]\n",
    "list10.sort(reverse=True)\n",
    "list10"
   ]
  },
  {
   "cell_type": "markdown",
   "id": "760047ba",
   "metadata": {},
   "source": [
    "### 리스트 안에서 찾고자 하는 값의 위치"
   ]
  },
  {
   "cell_type": "code",
   "execution_count": 38,
   "id": "56afb8a0",
   "metadata": {},
   "outputs": [
    {
     "data": {
      "text/plain": [
       "4"
      ]
     },
     "execution_count": 38,
     "metadata": {},
     "output_type": "execute_result"
    }
   ],
   "source": [
    "list11 = ['a', 'b', 'c', 'd', 'e', 'f']\n",
    "list11.index('e')"
   ]
  },
  {
   "cell_type": "markdown",
   "id": "9c18a3ab",
   "metadata": {},
   "source": [
    "### 리스트 안의 마지막 값을 출력 후 제거"
   ]
  },
  {
   "cell_type": "code",
   "execution_count": 39,
   "id": "a0078d67",
   "metadata": {},
   "outputs": [
    {
     "data": {
      "text/plain": [
       "'f'"
      ]
     },
     "execution_count": 39,
     "metadata": {},
     "output_type": "execute_result"
    }
   ],
   "source": [
    "list12 = ['a', 'b', 'c', 'd', 'e', 'f']\n",
    "list12.pop()"
   ]
  },
  {
   "cell_type": "code",
   "execution_count": 40,
   "id": "5146928e",
   "metadata": {},
   "outputs": [
    {
     "data": {
      "text/plain": [
       "['a', 'b', 'c', 'd', 'e']"
      ]
     },
     "execution_count": 40,
     "metadata": {},
     "output_type": "execute_result"
    }
   ],
   "source": [
    "list12"
   ]
  },
  {
   "cell_type": "markdown",
   "id": "1caf7dfd",
   "metadata": {},
   "source": [
    "### 리스트 안의 개수"
   ]
  },
  {
   "cell_type": "code",
   "execution_count": 41,
   "id": "472910e2",
   "metadata": {},
   "outputs": [
    {
     "data": {
      "text/plain": [
       "3"
      ]
     },
     "execution_count": 41,
     "metadata": {},
     "output_type": "execute_result"
    }
   ],
   "source": [
    "list13 = [0,1,2]\n",
    "len(list13)"
   ]
  },
  {
   "cell_type": "code",
   "execution_count": 42,
   "id": "df7741ce",
   "metadata": {},
   "outputs": [
    {
     "data": {
      "text/plain": [
       "6"
      ]
     },
     "execution_count": 42,
     "metadata": {},
     "output_type": "execute_result"
    }
   ],
   "source": [
    "list14 = ['a', 'b', 'c', 'd', 'e', 'f']\n",
    "len(list14)"
   ]
  },
  {
   "cell_type": "code",
   "execution_count": 43,
   "id": "1e883abc",
   "metadata": {},
   "outputs": [],
   "source": [
    "tuple1 = (0, 1, 2, 3, ('a', 'b', 'c'), 5)"
   ]
  },
  {
   "cell_type": "code",
   "execution_count": 44,
   "id": "0ebc28ae",
   "metadata": {},
   "outputs": [
    {
     "data": {
      "text/plain": [
       "2"
      ]
     },
     "execution_count": 44,
     "metadata": {},
     "output_type": "execute_result"
    }
   ],
   "source": [
    "tuple1[2]"
   ]
  },
  {
   "cell_type": "code",
   "execution_count": 45,
   "id": "2758de23",
   "metadata": {},
   "outputs": [
    {
     "data": {
      "text/plain": [
       "('a', 'b', 'c')"
      ]
     },
     "execution_count": 45,
     "metadata": {},
     "output_type": "execute_result"
    }
   ],
   "source": [
    "tuple1[4]"
   ]
  },
  {
   "cell_type": "code",
   "execution_count": 46,
   "id": "66f5b516",
   "metadata": {},
   "outputs": [
    {
     "data": {
      "text/plain": [
       "(1, 2)"
      ]
     },
     "execution_count": 46,
     "metadata": {},
     "output_type": "execute_result"
    }
   ],
   "source": [
    "tuple1[1:3]"
   ]
  },
  {
   "cell_type": "code",
   "execution_count": 47,
   "id": "6219fb86",
   "metadata": {},
   "outputs": [
    {
     "data": {
      "text/plain": [
       "(3, ('a', 'b', 'c'), 5)"
      ]
     },
     "execution_count": 47,
     "metadata": {},
     "output_type": "execute_result"
    }
   ],
   "source": [
    "tuple1[3:]"
   ]
  },
  {
   "cell_type": "code",
   "execution_count": 48,
   "id": "be316fda",
   "metadata": {},
   "outputs": [
    {
     "data": {
      "text/plain": [
       "6"
      ]
     },
     "execution_count": 48,
     "metadata": {},
     "output_type": "execute_result"
    }
   ],
   "source": [
    "len(tuple1)"
   ]
  },
  {
   "cell_type": "code",
   "execution_count": 49,
   "id": "9a34101a",
   "metadata": {},
   "outputs": [
    {
     "ename": "TypeError",
     "evalue": "'tuple' object does not support item assignment",
     "output_type": "error",
     "traceback": [
      "\u001b[1;31m---------------------------------------------------------------------------\u001b[0m",
      "\u001b[1;31mTypeError\u001b[0m                                 Traceback (most recent call last)",
      "Input \u001b[1;32mIn [49]\u001b[0m, in \u001b[0;36m<cell line: 1>\u001b[1;34m()\u001b[0m\n\u001b[1;32m----> 1\u001b[0m tuple1[\u001b[38;5;241m0\u001b[39m] \u001b[38;5;241m=\u001b[39m \u001b[38;5;241m3\u001b[39m\n",
      "\u001b[1;31mTypeError\u001b[0m: 'tuple' object does not support item assignment"
     ]
    }
   ],
   "source": [
    "tuple1[0] = 3"
   ]
  },
  {
   "cell_type": "markdown",
   "id": "2ecfb390",
   "metadata": {},
   "source": [
    "# 조건문에서 사용되는 in, not in\n",
    "\n",
    "- in: 찾고자하는"
   ]
  },
  {
   "cell_type": "code",
   "execution_count": 50,
   "id": "3ef39ca2",
   "metadata": {},
   "outputs": [
    {
     "data": {
      "text/plain": [
       "True"
      ]
     },
     "execution_count": 50,
     "metadata": {},
     "output_type": "execute_result"
    }
   ],
   "source": [
    "str1 = \"파이썬 최고\"\n",
    "\"파이썬\" in str1"
   ]
  },
  {
   "cell_type": "code",
   "execution_count": 51,
   "id": "6bc59641",
   "metadata": {},
   "outputs": [
    {
     "data": {
      "text/plain": [
       "False"
      ]
     },
     "execution_count": 51,
     "metadata": {},
     "output_type": "execute_result"
    }
   ],
   "source": [
    "\"파이썬\" not in str1"
   ]
  },
  {
   "cell_type": "code",
   "execution_count": 52,
   "id": "59413414",
   "metadata": {},
   "outputs": [
    {
     "data": {
      "text/plain": [
       "False"
      ]
     },
     "execution_count": 52,
     "metadata": {},
     "output_type": "execute_result"
    }
   ],
   "source": [
    "list1 = [77, 38, 10]\n",
    "33 in list1"
   ]
  },
  {
   "cell_type": "code",
   "execution_count": 53,
   "id": "68783601",
   "metadata": {},
   "outputs": [
    {
     "data": {
      "text/plain": [
       "True"
      ]
     },
     "execution_count": 53,
     "metadata": {},
     "output_type": "execute_result"
    }
   ],
   "source": [
    "33 not in list1"
   ]
  },
  {
   "cell_type": "code",
   "execution_count": 59,
   "id": "6e69fed2",
   "metadata": {},
   "outputs": [
    {
     "name": "stdout",
     "output_type": "stream",
     "text": [
      "검색할 문자를 입력하세요 : i\n",
      "i는 2번 들어있네유!\n"
     ]
    }
   ],
   "source": [
    "s = 'Hi, My name is SongWoo'\n",
    "a = input(\"검색할 문자를 입력하세요 : \")\n",
    "b = s.count(a)\n",
    "\n",
    "if a in s:\n",
    "    print(f\"{a}는 {b}번 들어있네유!\" )\n",
    "else:\n",
    "    print(f\"{a}는 들어있지 않네유...\")"
   ]
  },
  {
   "cell_type": "code",
   "execution_count": null,
   "id": "d9d54e74",
   "metadata": {},
   "outputs": [],
   "source": []
  },
  {
   "cell_type": "code",
   "execution_count": null,
   "id": "fa4861ec",
   "metadata": {},
   "outputs": [],
   "source": []
  },
  {
   "cell_type": "code",
   "execution_count": null,
   "id": "038373a8",
   "metadata": {},
   "outputs": [],
   "source": []
  },
  {
   "cell_type": "code",
   "execution_count": null,
   "id": "1f8d8fe5",
   "metadata": {},
   "outputs": [],
   "source": []
  },
  {
   "cell_type": "code",
   "execution_count": null,
   "id": "9327856d",
   "metadata": {},
   "outputs": [],
   "source": []
  }
 ],
 "metadata": {
  "kernelspec": {
   "display_name": "Python 3 (ipykernel)",
   "language": "python",
   "name": "python3"
  },
  "language_info": {
   "codemirror_mode": {
    "name": "ipython",
    "version": 3
   },
   "file_extension": ".py",
   "mimetype": "text/x-python",
   "name": "python",
   "nbconvert_exporter": "python",
   "pygments_lexer": "ipython3",
   "version": "3.9.12"
  }
 },
 "nbformat": 4,
 "nbformat_minor": 5
}
