{
 "cells": [
  {
   "cell_type": "code",
   "execution_count": 1,
   "id": "88908c94",
   "metadata": {},
   "outputs": [],
   "source": [
    "from selenium import webdriver as wb\n",
    "from selenium.webdriver.common.keys import Keys\n",
    "from selenium.webdriver.common.by import By\n",
    "import time\n",
    "import pandas as pd\n",
    "from tqdm import tqdm_notebook as tq"
   ]
  },
  {
   "cell_type": "code",
   "execution_count": 30,
   "id": "34392fce",
   "metadata": {},
   "outputs": [],
   "source": [
    "# 1. 크롬브라우저를 실행\n",
    "# 1.1 한솥메뉴사이트로 이동\n",
    "driver = wb.Chrome()\n",
    "driver.get(\"https://www.hsd.co.kr/menu/menu_list\")"
   ]
  },
  {
   "cell_type": "code",
   "execution_count": 21,
   "id": "f11ee72c",
   "metadata": {},
   "outputs": [
    {
     "name": "stdout",
     "output_type": "stream",
     "text": [
      "오븐구이 오리도시락 6,900\n",
      "열무 감초고추장 비빔밥 4,500\n",
      "열무 두부강된장 비빔밥 4,900\n",
      "핫 치즈 닭갈비 덮밥 5,900\n",
      "오리지널 치즈 닭갈비 덮밥 5,900\n",
      "1993 왕돈까스 도시락 9,300\n",
      "한입 족발 도시락 8,500\n",
      "매화(순살 고등어 간장구이) 10,000\n",
      "진달래 7,500\n",
      "개나리(순살 고등어 간장구이) 8,000\n",
      "돈까스도련님고기고기 6,000\n",
      "탕수육도련님고기고기 5,800\n",
      "새치 고기고기 6,700\n",
      "돈치 고기고기 5,800\n",
      "숯불직화구이 6,500\n",
      "소불고기 5,400\n",
      "메가치킨제육 7,000\n",
      "칠리 찹쌀탕수육도련님 4,200\n",
      "동백 5,800\n",
      "치킨제육 4,700\n",
      "돈까스도련님 4,500\n",
      "제육볶음 4,200\n",
      "돈치스팸 도시락 4,900\n",
      "제육 김치찌개 정식 8,200\n",
      "제육 김치 부대찌개 정식 8,500\n",
      "돈치스팸 김치 부대찌개 정식 8,500\n",
      "빅치킨마요 김치 부대찌개 정식 7,500\n",
      "치킨마요 김치 부대찌개 정식 6,900\n",
      "빅치킨마요 김치찌개 정식 7,000\n",
      "치킨마요 김치찌개 정식 6,500\n",
      "메가스팸마요 5,600\n",
      "스팸마요 3,700\n",
      "메가치킨마요 5,800\n",
      "왕치킨마요 4,800\n",
      "빅치킨마요 4,100\n",
      "치킨마요 3,500\n",
      "참치마요 3,200\n",
      "돈치마요 3,800\n",
      "돈까스 카레 4,500\n",
      "스팸 김치볶음밥 4,700\n",
      "김치볶음밥 3,900\n",
      "스팸철판볶음밥 4,500\n",
      "소불고기 철판볶음밥 4,700\n",
      "나시고랭 6,000\n",
      "묵은지 김치찌개 4,500\n",
      "김치 부대찌개 5,800\n",
      "숯불직화구이 덮밥 5,900\n",
      "마파두부 덮밥 5,000\n",
      "왕카레돈까스덮밥 5,900\n",
      "새우돈까스 덮밥 4,100\n",
      "돈까스 덮밥 4,000\n",
      "소불고기 감초고추장 비빔밥 5,200\n",
      "시골제육 두부강된장 비빔밥 5,000\n",
      "참치야채 감초고추장 3,300\n",
      "튼튼도시락 5,000\n",
      "토네이도 소세지 파스타 5,500\n",
      "트리플 치즈 파스타 5,500\n",
      "토마토 미트 파스타 4,500\n",
      "반찬 계란말이 2,500\n",
      "반찬 묵은지김치찌개 4,000\n",
      "반찬 카레 2,800\n",
      "반찬 순살 고등어데리야끼 3,600\n",
      "반찬 김치 부대찌개 4,500\n",
      "반찬 치킨 3,600\n",
      "반찬 고기고기 3,400\n",
      "반찬 돈까스 도련님 3,800\n",
      "반찬 제육볶음 3,200\n",
      "반찬 토네이도 소세지 2,600\n",
      "반찬 반달돈까스 2,800\n",
      "뉴 감자고로케 2,700\n",
      "미니 찹쌀핫도그 2,500\n",
      "미니 찹쌀탕수육 2,200\n",
      "케이준후라이 1,700\n",
      "고메이 크림 고로케 3,500\n",
      "후라이드 순살(소)_스리라차마요소스 4,000\n",
      "후라이드 순살(중) 7,500\n",
      "후라이드 순살(소)_양념치킨소스 4,000\n",
      "후라이드 순살(소)_케이준소스 4,000\n",
      "오리지널 닭강정(중) 8,000\n",
      "오리지널 닭강정(소) 3,400\n",
      "무생채 400\n",
      "열무김치 500\n",
      "오징어젓갈 400\n",
      "오이지무침 700\n",
      "한솥 두부강된장소스 1,800\n",
      "한솥 감초볶음고추장소스 500\n",
      "볶음김치 400\n",
      "김치 300\n",
      "무말랭이 무침 300\n",
      "한솥밥 1,000\n",
      "현미밥 1,700\n",
      "리얼 티라미수 찰떡 1,500\n",
      "리얼꿀 미니호떡 2,200\n"
     ]
    }
   ],
   "source": [
    "# 상품명, 상품가격정보를 수집(글자만 출력)\n",
    "name = driver.find_elements(By.CLASS_NAME,\"h.fz_03\")\n",
    "# By.CSS_SELECTOR = 선택자를 직접 명시할 때 사용\n",
    "# 주의점! 아이디는 #, 클래스 ., 키워드를 항상 명시해야 한다!\n",
    "price = driver.find_elements(By.CSS_SELECTOR,\".item-price > strong\")\n",
    "\n",
    "for i in range(len(name)):\n",
    "    print(name[i].text, end=\" \")\n",
    "    print(price[i].text)"
   ]
  },
  {
   "cell_type": "code",
   "execution_count": 22,
   "id": "b0a3c0e8",
   "metadata": {},
   "outputs": [
    {
     "name": "stdout",
     "output_type": "stream",
     "text": [
      "93\n"
     ]
    }
   ],
   "source": [
    "print(len(name))"
   ]
  },
  {
   "cell_type": "code",
   "execution_count": null,
   "id": "f97e66ba",
   "metadata": {},
   "outputs": [],
   "source": [
    "# 더보기 버튼을 끝까지 누르는 로직\n",
    "btn = driver.find_element(By.CSS_SELECTOR,'#btn_more > span > a')\n",
    "btn.click()"
   ]
  },
  {
   "cell_type": "code",
   "execution_count": null,
   "id": "6fa020e8",
   "metadata": {},
   "outputs": [],
   "source": [
    "# 더보기 버튼을 끝까지 실행!\n",
    "# 반복의 횟수가 다 다르기 때문에, While문을 활용!\n",
    "while True:\n",
    "    btn = driver.find_element(By.CSS_SELECTOR,'#btn_more > span > a')\n",
    "    btn.click()\n",
    "    time.sleep(2)"
   ]
  },
  {
   "cell_type": "markdown",
   "id": "79b00530",
   "metadata": {},
   "source": [
    "# 예외처리\n",
    "- 오류가 나기전까지 실행하다 오류가 났을때는 다른 코드를 실행!\n",
    "- try = 나기 전까지 코드\n",
    "- except = 오류가 났을때 코드\n"
   ]
  },
  {
   "cell_type": "code",
   "execution_count": 31,
   "id": "33eb04ed",
   "metadata": {},
   "outputs": [
    {
     "name": "stdout",
     "output_type": "stream",
     "text": [
      "더보기 완료!\n"
     ]
    }
   ],
   "source": [
    "try :\n",
    "    # 오류 나기 전\n",
    "    while tq(True):\n",
    "        btn = driver.find_element(By.CSS_SELECTOR,'#btn_more > span > a')\n",
    "        btn.click()\n",
    "        time.sleep(2)\n",
    "except:\n",
    "    # 오류 난 후\n",
    "    print('더보기 완료!')"
   ]
  },
  {
   "cell_type": "markdown",
   "id": "51eb261d",
   "metadata": {},
   "source": [
    "# 한셀에 완벽한 크롤링 코드 짜기"
   ]
  },
  {
   "cell_type": "code",
   "execution_count": 35,
   "id": "16b064dd",
   "metadata": {},
   "outputs": [
    {
     "name": "stderr",
     "output_type": "stream",
     "text": [
      "C:\\Users\\AI\\AppData\\Local\\Temp\\ipykernel_7324\\2484838500.py:7: TqdmDeprecationWarning: This function will be removed in tqdm==5.0.0\n",
      "Please use `tqdm.notebook.tqdm` instead of `tqdm.tqdm_notebook`\n",
      "  while tq(True):\n"
     ]
    },
    {
     "data": {
      "application/vnd.jupyter.widget-view+json": {
       "model_id": "8f43a4f896a74e60b24586424292dc25",
       "version_major": 2,
       "version_minor": 0
      },
      "text/plain": [
       "0it [00:00, ?it/s]"
      ]
     },
     "metadata": {},
     "output_type": "display_data"
    },
    {
     "data": {
      "application/vnd.jupyter.widget-view+json": {
       "model_id": "19698a6f33db4bc9aa290cd8cbcbf8ee",
       "version_major": 2,
       "version_minor": 0
      },
      "text/plain": [
       "0it [00:00, ?it/s]"
      ]
     },
     "metadata": {},
     "output_type": "display_data"
    },
    {
     "name": "stdout",
     "output_type": "stream",
     "text": [
      "더보기 완료!\n"
     ]
    }
   ],
   "source": [
    "#1. 크롬창 실행 후 > 한솥 메뉴사이트 요청\n",
    "driver = wb.Chrome()\n",
    "driver.get('https://www.hsd.co.kr/menu/menu_list')\n",
    "time.sleep(2)\n",
    "driver.maximize_window()\n",
    "time.sleep(2)\n",
    "# 2. 더보기를 끝까지 누르는 로직\n",
    "try :\n",
    "    while True:\n",
    "        btn = driver.find_element(By.CSS_SELECTOR,'#btn_more > span > a')\n",
    "        btn.click()\n",
    "        time.sleep(2)\n",
    "except:\n",
    "    print(\"더보기 완료!\")\n",
    "# 3. 가격, 메뉴명을 수집\n",
    "name = driver.find_elements(By.CSS_SELECTOR,'.h.fz_03')\n",
    "price = driver.find_elements(By.CSS_SELECTOR, '.item-price > strong')\n",
    "# 4. 순수한 테스트 정보만 추출 => 비어있는 리스트에 텍스트만 담기\n",
    "nameList = []\n",
    "priceList = []\n",
    "for i in range(len(name)):\n",
    "    nameList.append(name[i].text)\n",
    "    priceList.append(price[i].text)\n",
    "# 5. 데이터프레임 제작 => 판다스\n",
    "dict = {\"상품명\":nameList, \"가격\":priceList}\n",
    "lunchbox=pd.DataFrame(dict)\n",
    "# 6. 한글이 깨지지 않고 csv파일을 제작\n",
    "lunchbox.to_csv(\"한솥도시락.csv\", encoding=\"euc-kr\")\n",
    "# 7. 크롬창을 종료\n",
    "driver.close()"
   ]
  },
  {
   "cell_type": "markdown",
   "id": "d1437e03",
   "metadata": {},
   "source": [
    "# 선택자 한번에 복사해오는 방법\n",
    "- F12개발자 도구에서 원하는 요소 찾기\n",
    "- 마우스 우클릭 > copy > copy selector\n",
    "- [주의점]\n",
    "- copy selector를 사용시 무조건 선택한 하나만 가지고옴\n",
    "- 복수개를 요청할때는 선택자의 수정이 필요함\n",
    "- ex) li:nth-child(3) > a 는 하나만 요청 / 복수개로 변경시에는 li > a 로 수정!"
   ]
  },
  {
   "cell_type": "markdown",
   "id": "117d864e",
   "metadata": {},
   "source": [
    "# ActionChains\n",
    "\n",
    "- ActionChains 사용법\n",
    "- 1. 내가 액션을 줄 모든 요소들을 수집\n",
    "- 2. ActionChains('브라우저') 호출\n",
    "- 3. ActionChains('브라우저').기능(요소명).기능(요소명).perform()"
   ]
  },
  {
   "cell_type": "code",
   "execution_count": 36,
   "id": "61d065f6",
   "metadata": {},
   "outputs": [],
   "source": [
    "# 이벤트를 묶어서 실행하는 라이브러리\n",
    "from selenium.webdriver import ActionChains"
   ]
  },
  {
   "cell_type": "code",
   "execution_count": 37,
   "id": "58450ca8",
   "metadata": {},
   "outputs": [],
   "source": [
    "driver =wb.Chrome()\n",
    "driver.get(\"https://www.hsd.co.kr/\")\n",
    "driver.maximize_window()"
   ]
  },
  {
   "cell_type": "code",
   "execution_count": 38,
   "id": "0e0d308a",
   "metadata": {},
   "outputs": [],
   "source": [
    "# 1. 메뉴탭에 마우스를 올리기!\n",
    "# 2. 올린 상태에서 전체 메뉴를 클릭\n",
    "menu = driver.find_element(By.CSS_SELECTOR,'#gnb > div.gnb_menu > ul > li:nth-child(3) > p > a')\n",
    "allList = driver.find_element(By.CSS_SELECTOR,'#gnb > div.gnb_menu > ul > li:nth-child(3) > div > ul > li:nth-child(1) > a')\n",
    "ActionChains(driver).move_to_element(menu).click(allList).perform()"
   ]
  },
  {
   "cell_type": "markdown",
   "id": "cd286ede",
   "metadata": {},
   "source": [
    "## 화면에 크롬창이 안보이게 실행(백그라운드 실행)\n",
    "\n",
    "- 크롬옵션을 설정\n",
    "- 크롬드라이버의 경로를 반드시 명시!"
   ]
  },
  {
   "cell_type": "code",
   "execution_count": 4,
   "id": "b95d76fd",
   "metadata": {},
   "outputs": [
    {
     "name": "stderr",
     "output_type": "stream",
     "text": [
      "C:\\Users\\AI\\AppData\\Local\\Temp\\ipykernel_14224\\3316646285.py:4: DeprecationWarning: executable_path has been deprecated, please pass in a Service object\n",
      "  driver = wb.Chrome(executable_path='C:/Users/AI/크롤링/chromedriver.exe',chrome_options=options)\n",
      "C:\\Users\\AI\\AppData\\Local\\Temp\\ipykernel_14224\\3316646285.py:4: DeprecationWarning: use options instead of chrome_options\n",
      "  driver = wb.Chrome(executable_path='C:/Users/AI/크롤링/chromedriver.exe',chrome_options=options)\n"
     ]
    },
    {
     "name": "stdout",
     "output_type": "stream",
     "text": [
      "더보기 완료!\n"
     ]
    }
   ],
   "source": [
    "options = wb.ChromeOptions()\n",
    "options.add_argument('headless')\n",
    "\n",
    "driver = wb.Chrome(executable_path='C:/Users/AI/크롤링/chromedriver.exe',chrome_options=options)\n",
    "driver.get('https://www.hsd.co.kr/menu/menu_list')\n",
    "try :\n",
    "    while True:\n",
    "        btn = driver.find_element(By.CSS_SELECTOR,'#btn_more > span > a')\n",
    "        btn.click()\n",
    "        time.sleep(2)\n",
    "except:\n",
    "    print(\"더보기 완료!\")\n",
    "name = driver.find_elements(By.CSS_SELECTOR,'.h.fz_03')\n",
    "price = driver.find_elements(By.CSS_SELECTOR, '.item-price > strong')\n",
    "nameList = []\n",
    "priceList = []\n",
    "for i in range(len(name)):\n",
    "    nameList.append(name[i].text)\n",
    "    priceList.append(price[i].text)\n",
    "dict = {\"상품명\":nameList, \"가격\":priceList}\n",
    "lunchbox=pd.DataFrame(dict)\n",
    "driver.close()"
   ]
  },
  {
   "cell_type": "code",
   "execution_count": 5,
   "id": "b0931fc5",
   "metadata": {},
   "outputs": [
    {
     "data": {
      "text/html": [
       "<div>\n",
       "<style scoped>\n",
       "    .dataframe tbody tr th:only-of-type {\n",
       "        vertical-align: middle;\n",
       "    }\n",
       "\n",
       "    .dataframe tbody tr th {\n",
       "        vertical-align: top;\n",
       "    }\n",
       "\n",
       "    .dataframe thead th {\n",
       "        text-align: right;\n",
       "    }\n",
       "</style>\n",
       "<table border=\"1\" class=\"dataframe\">\n",
       "  <thead>\n",
       "    <tr style=\"text-align: right;\">\n",
       "      <th></th>\n",
       "      <th>상품명</th>\n",
       "      <th>가격</th>\n",
       "    </tr>\n",
       "  </thead>\n",
       "  <tbody>\n",
       "    <tr>\n",
       "      <th>0</th>\n",
       "      <td>오븐구이 오리도시락</td>\n",
       "      <td>6,900</td>\n",
       "    </tr>\n",
       "    <tr>\n",
       "      <th>1</th>\n",
       "      <td>열무 감초고추장 비빔밥</td>\n",
       "      <td>4,500</td>\n",
       "    </tr>\n",
       "    <tr>\n",
       "      <th>2</th>\n",
       "      <td>열무 두부강된장 비빔밥</td>\n",
       "      <td>4,900</td>\n",
       "    </tr>\n",
       "    <tr>\n",
       "      <th>3</th>\n",
       "      <td>핫 치즈 닭갈비 덮밥</td>\n",
       "      <td>5,900</td>\n",
       "    </tr>\n",
       "    <tr>\n",
       "      <th>4</th>\n",
       "      <td>오리지널 치즈 닭갈비 덮밥</td>\n",
       "      <td>5,900</td>\n",
       "    </tr>\n",
       "    <tr>\n",
       "      <th>...</th>\n",
       "      <td>...</td>\n",
       "      <td>...</td>\n",
       "    </tr>\n",
       "    <tr>\n",
       "      <th>88</th>\n",
       "      <td>무말랭이 무침</td>\n",
       "      <td>300</td>\n",
       "    </tr>\n",
       "    <tr>\n",
       "      <th>89</th>\n",
       "      <td>한솥밥</td>\n",
       "      <td>1,000</td>\n",
       "    </tr>\n",
       "    <tr>\n",
       "      <th>90</th>\n",
       "      <td>현미밥</td>\n",
       "      <td>1,700</td>\n",
       "    </tr>\n",
       "    <tr>\n",
       "      <th>91</th>\n",
       "      <td>리얼 티라미수 찰떡</td>\n",
       "      <td>1,500</td>\n",
       "    </tr>\n",
       "    <tr>\n",
       "      <th>92</th>\n",
       "      <td>리얼꿀 미니호떡</td>\n",
       "      <td>2,200</td>\n",
       "    </tr>\n",
       "  </tbody>\n",
       "</table>\n",
       "<p>93 rows × 2 columns</p>\n",
       "</div>"
      ],
      "text/plain": [
       "               상품명     가격\n",
       "0       오븐구이 오리도시락  6,900\n",
       "1     열무 감초고추장 비빔밥  4,500\n",
       "2     열무 두부강된장 비빔밥  4,900\n",
       "3      핫 치즈 닭갈비 덮밥  5,900\n",
       "4   오리지널 치즈 닭갈비 덮밥  5,900\n",
       "..             ...    ...\n",
       "88         무말랭이 무침    300\n",
       "89             한솥밥  1,000\n",
       "90             현미밥  1,700\n",
       "91      리얼 티라미수 찰떡  1,500\n",
       "92        리얼꿀 미니호떡  2,200\n",
       "\n",
       "[93 rows x 2 columns]"
      ]
     },
     "execution_count": 5,
     "metadata": {},
     "output_type": "execute_result"
    }
   ],
   "source": [
    "lunchbox"
   ]
  },
  {
   "cell_type": "code",
   "execution_count": null,
   "id": "fba56b2f",
   "metadata": {},
   "outputs": [],
   "source": []
  }
 ],
 "metadata": {
  "kernelspec": {
   "display_name": "Python 3 (ipykernel)",
   "language": "python",
   "name": "python3"
  },
  "language_info": {
   "codemirror_mode": {
    "name": "ipython",
    "version": 3
   },
   "file_extension": ".py",
   "mimetype": "text/x-python",
   "name": "python",
   "nbconvert_exporter": "python",
   "pygments_lexer": "ipython3",
   "version": "3.9.12"
  },
  "toc": {
   "base_numbering": 1,
   "nav_menu": {},
   "number_sections": true,
   "sideBar": true,
   "skip_h1_title": false,
   "title_cell": "Table of Contents",
   "title_sidebar": "Contents",
   "toc_cell": false,
   "toc_position": {},
   "toc_section_display": true,
   "toc_window_display": false
  }
 },
 "nbformat": 4,
 "nbformat_minor": 5
}
