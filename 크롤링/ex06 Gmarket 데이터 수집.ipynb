{
 "cells": [
  {
   "cell_type": "code",
   "execution_count": 41,
   "id": "02285a7a",
   "metadata": {},
   "outputs": [],
   "source": [
    "from selenium import webdriver as wb\n",
    "from selenium.webdriver.common.by import By\n",
    "import time"
   ]
  },
  {
   "cell_type": "code",
   "execution_count": 42,
   "id": "f809dbc2",
   "metadata": {},
   "outputs": [],
   "source": [
    "driver = wb.Chrome()\n",
    "driver.get('http://corners.gmarket.co.kr/Bestsellers')"
   ]
  },
  {
   "cell_type": "code",
   "execution_count": 5,
   "id": "14c76c96",
   "metadata": {},
   "outputs": [],
   "source": [
    "# 1. 첫번째 상품 클릭\n",
    "img = driver.find_elements(By.CLASS_NAME,\"lazy\")\n",
    "img[0].click()"
   ]
  },
  {
   "cell_type": "code",
   "execution_count": 13,
   "id": "ea8f0561",
   "metadata": {},
   "outputs": [],
   "source": [
    "# 2. 상품명, 상품 가격 추출\n",
    "title = driver.find_element(By.CLASS_NAME,\"itemtit\").text\n",
    "amount = driver.find_element(By.CLASS_NAME,\"price_real\").text"
   ]
  },
  {
   "cell_type": "code",
   "execution_count": 14,
   "id": "fc0085eb",
   "metadata": {},
   "outputs": [
    {
     "name": "stdout",
     "output_type": "stream",
     "text": [
      "진짜진짜 촉촉한 올리브 토너 2개 + 로션 1개/+사은품\n",
      "10,500원\n"
     ]
    }
   ],
   "source": [
    "print(title)\n",
    "print(amount)"
   ]
  },
  {
   "cell_type": "code",
   "execution_count": 15,
   "id": "f04bf698",
   "metadata": {},
   "outputs": [],
   "source": [
    "# 페이지 뒤로가기\n",
    "driver.back()"
   ]
  },
  {
   "cell_type": "code",
   "execution_count": 48,
   "id": "fde03e0e",
   "metadata": {},
   "outputs": [],
   "source": [
    "driver.close()"
   ]
  },
  {
   "cell_type": "code",
   "execution_count": 43,
   "id": "422adee1",
   "metadata": {},
   "outputs": [],
   "source": [
    "titleList = []\n",
    "amountLitst = []\n",
    "for i in range(10):\n",
    "    img = driver.find_elements(By.CLASS_NAME,\"lazy\")\n",
    "    img[i].click()\n",
    "    # 중간중간 코드에 쉬는 시간을 부여\n",
    "    # 서버에게 부담을 주지 않기 위해서\n",
    "    # 화면에 전환이 있었을 때(클라와 서버가 통신)\n",
    "    # time.sleep() = 무조건 정해진 시간만큼 멈춤\n",
    "    time.sleep(1)\n",
    "    # implicitly_wait(10) = 최대 10초\n",
    "    # html파일을 다 받아오면 그 중간에 멈추고 뒤코드를 실행\n",
    "    driver.implicitly_wait(10)\n",
    "    title = driver.find_element(By.CLASS_NAME,\"itemtit\")\n",
    "    titleList.append(title.text)\n",
    "    amount = driver.find_element(By.CLASS_NAME,\"price_real\")\n",
    "    amountLitst.append(amount.text)\n",
    "    time.sleep(1)\n",
    "    driver.back()\n",
    "    time.sleep(1)\n"
   ]
  },
  {
   "cell_type": "code",
   "execution_count": 47,
   "id": "a8f91e2f",
   "metadata": {
    "scrolled": true
   },
   "outputs": [
    {
     "name": "stdout",
     "output_type": "stream",
     "text": [
      "['진짜진짜 촉촉한 올리브 토너 2개 + 로션 1개/+사은품', '제스프리 제스프리 썬골드키위 특대과 3.2kg(23~25과 개당 130g~140g내외)+스푼3개', '완도 전복 쿠폰가 26340 초복 선물용 횟감용 14-16미 1KG 더큰 전복 국내산', '소울키친 빅마마 이혜정의 시크릿코인 205개', '소문난오부자 재래도시락김5g 72봉 최근생산', '도드람한돈 생 삼겹살 500g 구이용', '(추가할인+사은품) 책과함께 떠나는 북캉스 추천도서 188종 선택/무료배송', '올반 볶음밥 3종 10봉(새우4+김치4+우삼겹2)', '촉촉한 초코칩 16개입 x 5박스', '몽베스트 1L 24병 /생수전문배송']\n",
      "['10,500원', '27,740원', '30,000원', '55,640원', '18,900원', '11,900원', '3,900원', '15,700원', '17,000원', '11,880원']\n"
     ]
    }
   ],
   "source": [
    "print(titleList)\n",
    "print(amountLitst)"
   ]
  },
  {
   "cell_type": "code",
   "execution_count": 49,
   "id": "25095d14",
   "metadata": {},
   "outputs": [],
   "source": [
    "dic = {\"제목\":titleList, '가격':amountLitst}"
   ]
  },
  {
   "cell_type": "code",
   "execution_count": 50,
   "id": "d9543bdd",
   "metadata": {},
   "outputs": [],
   "source": [
    "import pandas as pd"
   ]
  },
  {
   "cell_type": "code",
   "execution_count": 51,
   "id": "f3a34c7f",
   "metadata": {},
   "outputs": [
    {
     "data": {
      "text/html": [
       "<div>\n",
       "<style scoped>\n",
       "    .dataframe tbody tr th:only-of-type {\n",
       "        vertical-align: middle;\n",
       "    }\n",
       "\n",
       "    .dataframe tbody tr th {\n",
       "        vertical-align: top;\n",
       "    }\n",
       "\n",
       "    .dataframe thead th {\n",
       "        text-align: right;\n",
       "    }\n",
       "</style>\n",
       "<table border=\"1\" class=\"dataframe\">\n",
       "  <thead>\n",
       "    <tr style=\"text-align: right;\">\n",
       "      <th></th>\n",
       "      <th>제목</th>\n",
       "      <th>가격</th>\n",
       "    </tr>\n",
       "  </thead>\n",
       "  <tbody>\n",
       "    <tr>\n",
       "      <th>0</th>\n",
       "      <td>진짜진짜 촉촉한 올리브 토너 2개 + 로션 1개/+사은품</td>\n",
       "      <td>10,500원</td>\n",
       "    </tr>\n",
       "    <tr>\n",
       "      <th>1</th>\n",
       "      <td>제스프리 제스프리 썬골드키위 특대과 3.2kg(23~25과 개당 130g~140g내...</td>\n",
       "      <td>27,740원</td>\n",
       "    </tr>\n",
       "    <tr>\n",
       "      <th>2</th>\n",
       "      <td>완도 전복 쿠폰가 26340 초복 선물용 횟감용 14-16미 1KG 더큰 전복 국내산</td>\n",
       "      <td>30,000원</td>\n",
       "    </tr>\n",
       "    <tr>\n",
       "      <th>3</th>\n",
       "      <td>소울키친 빅마마 이혜정의 시크릿코인 205개</td>\n",
       "      <td>55,640원</td>\n",
       "    </tr>\n",
       "    <tr>\n",
       "      <th>4</th>\n",
       "      <td>소문난오부자 재래도시락김5g 72봉 최근생산</td>\n",
       "      <td>18,900원</td>\n",
       "    </tr>\n",
       "    <tr>\n",
       "      <th>5</th>\n",
       "      <td>도드람한돈 생 삼겹살 500g 구이용</td>\n",
       "      <td>11,900원</td>\n",
       "    </tr>\n",
       "    <tr>\n",
       "      <th>6</th>\n",
       "      <td>(추가할인+사은품) 책과함께 떠나는 북캉스 추천도서 188종 선택/무료배송</td>\n",
       "      <td>3,900원</td>\n",
       "    </tr>\n",
       "    <tr>\n",
       "      <th>7</th>\n",
       "      <td>올반 볶음밥 3종 10봉(새우4+김치4+우삼겹2)</td>\n",
       "      <td>15,700원</td>\n",
       "    </tr>\n",
       "    <tr>\n",
       "      <th>8</th>\n",
       "      <td>촉촉한 초코칩 16개입 x 5박스</td>\n",
       "      <td>17,000원</td>\n",
       "    </tr>\n",
       "    <tr>\n",
       "      <th>9</th>\n",
       "      <td>몽베스트 1L 24병 /생수전문배송</td>\n",
       "      <td>11,880원</td>\n",
       "    </tr>\n",
       "  </tbody>\n",
       "</table>\n",
       "</div>"
      ],
      "text/plain": [
       "                                                  제목       가격\n",
       "0                    진짜진짜 촉촉한 올리브 토너 2개 + 로션 1개/+사은품  10,500원\n",
       "1  제스프리 제스프리 썬골드키위 특대과 3.2kg(23~25과 개당 130g~140g내...  27,740원\n",
       "2    완도 전복 쿠폰가 26340 초복 선물용 횟감용 14-16미 1KG 더큰 전복 국내산  30,000원\n",
       "3                           소울키친 빅마마 이혜정의 시크릿코인 205개  55,640원\n",
       "4                           소문난오부자 재래도시락김5g 72봉 최근생산  18,900원\n",
       "5                               도드람한돈 생 삼겹살 500g 구이용  11,900원\n",
       "6          (추가할인+사은품) 책과함께 떠나는 북캉스 추천도서 188종 선택/무료배송   3,900원\n",
       "7                        올반 볶음밥 3종 10봉(새우4+김치4+우삼겹2)  15,700원\n",
       "8                                 촉촉한 초코칩 16개입 x 5박스  17,000원\n",
       "9                                몽베스트 1L 24병 /생수전문배송  11,880원"
      ]
     },
     "execution_count": 51,
     "metadata": {},
     "output_type": "execute_result"
    }
   ],
   "source": [
    "pd.DataFrame(dic)"
   ]
  },
  {
   "cell_type": "code",
   "execution_count": null,
   "id": "66716471",
   "metadata": {},
   "outputs": [],
   "source": []
  }
 ],
 "metadata": {
  "kernelspec": {
   "display_name": "Python 3 (ipykernel)",
   "language": "python",
   "name": "python3"
  },
  "language_info": {
   "codemirror_mode": {
    "name": "ipython",
    "version": 3
   },
   "file_extension": ".py",
   "mimetype": "text/x-python",
   "name": "python",
   "nbconvert_exporter": "python",
   "pygments_lexer": "ipython3",
   "version": "3.9.12"
  },
  "toc": {
   "base_numbering": 1,
   "nav_menu": {},
   "number_sections": true,
   "sideBar": true,
   "skip_h1_title": false,
   "title_cell": "Table of Contents",
   "title_sidebar": "Contents",
   "toc_cell": false,
   "toc_position": {},
   "toc_section_display": true,
   "toc_window_display": false
  }
 },
 "nbformat": 4,
 "nbformat_minor": 5
}
