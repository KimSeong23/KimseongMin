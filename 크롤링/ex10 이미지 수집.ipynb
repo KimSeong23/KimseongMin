{
 "cells": [
  {
   "cell_type": "code",
   "execution_count": 1,
   "id": "8a4a5f1f",
   "metadata": {},
   "outputs": [],
   "source": [
    "from selenium import webdriver as wb\n",
    "from selenium.webdriver.common.keys import Keys\n",
    "from selenium.webdriver.common.by import By\n",
    "import time\n",
    "# 파일시스템을 위한 라이브러리(파일, 폴더를 생성,삭제)\n",
    "import os\n",
    "# 이미지의 url값을 파일로 변형시켜주는 라이브러리\n",
    "from urllib.request import urlretrieve"
   ]
  },
  {
   "cell_type": "code",
   "execution_count": 2,
   "id": "ecaf15ae",
   "metadata": {},
   "outputs": [
    {
     "data": {
      "text/plain": [
       "<bound method WebDriver.maximize_window of <selenium.webdriver.chrome.webdriver.WebDriver (session=\"9c708d911d3547c8dcf692fc99c817c3\")>>"
      ]
     },
     "execution_count": 2,
     "metadata": {},
     "output_type": "execute_result"
    }
   ],
   "source": [
    "#1. 크롬을 통해서 네이버 메인사이트로 이동\n",
    "driver = wb.Chrome()\n",
    "driver.get(\"https://www.naver.com\")\n",
    "driver.maximize_window"
   ]
  },
  {
   "cell_type": "code",
   "execution_count": 3,
   "id": "868c0e5d",
   "metadata": {},
   "outputs": [],
   "source": [
    "#2. 검색창에 원하는 검색 입력\n",
    "#2.1 검색까지 진행\n",
    "search = driver.find_element(By.ID,\"query\")\n",
    "search.send_keys(\"예쁜 우주 일러스트\")\n",
    "search.send_keys(Keys.ENTER)"
   ]
  },
  {
   "cell_type": "code",
   "execution_count": null,
   "id": "887819f5",
   "metadata": {},
   "outputs": [],
   "source": [
    "# 스크롤 작동하는 코드 (화면구성 더 많아진다~ 로딩받는 데이터 증가!)\n",
    "for i in range(100):\n",
    "    scroll = driver.find_element(By.TAG_NAME,'body')\n",
    "    scroll.send_keys(Keys.END)\n",
    "    time.sleep(0.5)"
   ]
  },
  {
   "cell_type": "code",
   "execution_count": 4,
   "id": "c41b50f5",
   "metadata": {},
   "outputs": [],
   "source": [
    "#3. 이미지 탭 클릭\n",
    "tab=driver.find_element(By.CSS_SELECTOR,\"#lnb > div.lnb_group > div > ul > li:nth-child(2) > a\")\n",
    "tab.click()"
   ]
  },
  {
   "cell_type": "code",
   "execution_count": 6,
   "id": "6b64727d",
   "metadata": {},
   "outputs": [],
   "source": [
    "#4. 이미지태그들을 수집\n",
    "# 이유는? 이미지 태그 속에 존재하는 src만 추출하기 위해서\n",
    "img = driver.find_elements(By.CSS_SELECTOR,'._image._listImage')"
   ]
  },
  {
   "cell_type": "code",
   "execution_count": 7,
   "id": "7725ecfa",
   "metadata": {},
   "outputs": [
    {
     "data": {
      "text/plain": [
       "'https://search.pstatic.net/common/?src=http%3A%2F%2Fblogfiles.naver.net%2FMjAxNjEwMzFfMjYz%2FMDAxNDc3OTA2ODkyNTkx.Bkh_XW3qOxxyAaGIYbIolpjt_jjZOFZNxteqimG-RsAg.eQlhApignu_ZUw_PXhvRb3BSd2CPQ3wBxQlukkqFUTkg.JPEG.dudgusbb%2Fpikicast-1577216022.jpg&type=a340'"
      ]
     },
     "execution_count": 7,
     "metadata": {},
     "output_type": "execute_result"
    }
   ],
   "source": [
    "# 나 img리스트의 0번째 데이터에서 src 속성을 가져다줘!\n",
    "# 속성을 수집할 때는 get_attribut(\"속성\")\n",
    "img[0].get_attribute('src')"
   ]
  },
  {
   "cell_type": "code",
   "execution_count": 8,
   "id": "d49d3388",
   "metadata": {},
   "outputs": [],
   "source": [
    "# src만 담아줄 리스트 새로 제작\n",
    "srcList = []\n",
    "for i in img:\n",
    "    srcList.append(i.get_attribute('src'))"
   ]
  },
  {
   "cell_type": "code",
   "execution_count": 10,
   "id": "aeb8a312",
   "metadata": {},
   "outputs": [],
   "source": [
    "# 이미지를 저장!\n",
    "# 바탕화면에 이미지 폴더를 생성\n",
    "# 바탕화면에 이미지라는 폴더가 없다면, 바탕화면에 이미지 폴더 만들어줘~\n",
    "if not os.path.isdir('C:/Users/AI/Desktop/이미지'):\n",
    "    os.mkdir('C:/Users/AI/Desktop/이미지')"
   ]
  },
  {
   "cell_type": "code",
   "execution_count": 12,
   "id": "ef0ee0f1",
   "metadata": {},
   "outputs": [],
   "source": [
    "# url값을 이미지 폴더에 저장\n",
    "cnt = 0\n",
    "for i in srcList:\n",
    "    urlretrieve(i,f'C:/Users/AI/Desktop/이미지/{cnt}.jpg')\n",
    "    cnt += 1\n",
    "    time.sleep(1)"
   ]
  },
  {
   "cell_type": "markdown",
   "id": "076cd186",
   "metadata": {},
   "source": [
    "# 이미지가 중간에 깨지는 이유는?\n",
    "\n",
    "- 이미지는 텍스트 파일보다 크기가 더 크기 떄문에\n",
    "- 화면사에 스크롤을 통해서 더 많이 로딩을 받기!\n",
    "- 1. 크롬실행\n",
    "- 2. 스크롤을 충분히 진행 // 화면 구성\n",
    "- 3. img태그를 수집 // 태그 수집\n",
    "- 4. img태그 속 src만 추출 // 데이터 가공\n",
    "- 5. 파일로 저장 // 데이터 활용"
   ]
  }
 ],
 "metadata": {
  "kernelspec": {
   "display_name": "Python 3 (ipykernel)",
   "language": "python",
   "name": "python3"
  },
  "language_info": {
   "codemirror_mode": {
    "name": "ipython",
    "version": 3
   },
   "file_extension": ".py",
   "mimetype": "text/x-python",
   "name": "python",
   "nbconvert_exporter": "python",
   "pygments_lexer": "ipython3",
   "version": "3.9.12"
  },
  "toc": {
   "base_numbering": 1,
   "nav_menu": {},
   "number_sections": true,
   "sideBar": true,
   "skip_h1_title": false,
   "title_cell": "Table of Contents",
   "title_sidebar": "Contents",
   "toc_cell": false,
   "toc_position": {},
   "toc_section_display": true,
   "toc_window_display": false
  }
 },
 "nbformat": 4,
 "nbformat_minor": 5
}
