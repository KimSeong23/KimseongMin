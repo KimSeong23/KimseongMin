{
 "cells": [
  {
   "cell_type": "code",
   "execution_count": 1,
   "id": "478c40dd",
   "metadata": {},
   "outputs": [],
   "source": [
    "from selenium import webdriver as wb\n",
    "from selenium.webdriver.common.keys import Keys\n",
    "from selenium.webdriver.common.by import By\n",
    "import time"
   ]
  },
  {
   "cell_type": "code",
   "execution_count": 6,
   "id": "7ab2c8eb",
   "metadata": {},
   "outputs": [],
   "source": [
    "#1. 브라우저를 실행 > 유튜브채널 사이트로!\n",
    "driver = wb.Chrome()\n",
    "driver.get('https://www.youtube.com/watch?v=T9AsMXhc_aw')\n",
    "driver.maximize_window()"
   ]
  },
  {
   "cell_type": "code",
   "execution_count": 10,
   "id": "cfed91b5",
   "metadata": {
    "collapsed": true
   },
   "outputs": [
    {
     "name": "stdout",
     "output_type": "stream",
     "text": [
      "나를 추앙해줘 ㅋㅋ  오랜만에 모여서 수다수다 즐거웠어용!!!!\n",
      "아니 준표님 하루종일 웃고 계시네 ㅋㅋㅋㅋㅋ\n",
      "진짜 좋아하는 형들이랑 술마시고 있으니까 행복한가보다...\n",
      "내가 제일 좋아하는 사람들이랑 내가 제일 좋아하는걸로 시간을 보내는게 제일 행복한일인듯...\n",
      "ㅋㅋㅋㅋㅋㅋㅋㅋㅋㅋ\n",
      "마술사 분이 다른 방송에 게스트로 나오시면 마술 빌드 같은거 필요한거 생각하시느라고 항상 어느정도는 긴장을 놓지 않고 계시는듯 보이는데\n",
      "마술사분들 끼리 모여서 진짜 순수하게 웃고 떠드는 모습 보니까 너무 보기 좋네요 ㅋㅋㅋㅋㅋㅋ\n",
      "와 마법사 분들이 평범한 머글처럼 노시는거 보니까 너무 신기하고 재밋어요ㄲㅋㅋ\n",
      "노안과 동안의 마법이 신의 경지에 다른 자들의 합방 ㄷㄷ\n",
      "아니 왜 마술사들 모아놓으니까 너무 웃기지? 저번 이은결씨 나왔을때도 그렇고 오랜만에 또 빵빵 터지네 ㅋㅋㅋㅋㅋㅋㅋㅋㅋㅋㅋㅋㅋㅋㅋㅋ\n",
      "대마법사와 흑마법사의 합동방송이라니 웅장해진다..\n",
      "김준표가 말했던 선배가 저 둘 라인이었구나 라고 일반인으로 느끼며 지금은 너무 웃으며 보고 있어요\n",
      "\n",
      "대한민국만의 마술을 만들어주세요 꿈나무들\n",
      "아닠ㅋㅋㅋㅋㅋㅋㅋㅋ진짜 중간중간 준표쿤 킬포도 너무 많고ㅋㅋㅋㅋㅋㅋㅋㅋㅋ완전 웃겨욬ㅋㅋㅋㅋㅋㅋㅋㅋㅋㅋㅋㅋㅋ\n",
      "어릴 때부터 \"와 멋있다!\" 라고 생각한 마술사 분들의 모습이 새롭게 다가오네요\n",
      "준표님이 최현우님이나 은결님 같은 대선배를 만나면 손모으고 공손한 모습을 보니 뭔가 ㅋㅋㅋㅋ\n",
      "형들에게 쟁탈전을 벌이게 하는 마성의 남자...\n",
      "안녕하세요 영상에 나온 임마술입니다\n",
      "전 행복합니다\n",
      "준표님이 진심으로 존경하는게 느껴지네\n",
      "준표님이 진짜 성향이 ㅋㅋㅋㅋ 아무리 친해도 나이차이나는 형이다보면 찐바이브 나오기 쉽진 않은데 나오는 거 보면 원래 그런거에 여유로운 타입인가보넹\n",
      "흑마술사와 대마법사와 바텐더의 만남\n",
      "진짜 순수재미 스킵없이 다본영상 ㅋㅋㅋ\n",
      "잘보겠습니당 준표님 오늘은 최현우 마술사님이라니!!! 섭외 완전 대박이네용ㅋㅋㅋㅋ\n"
     ]
    }
   ],
   "source": [
    "#2. 댓글정보를 수집\n",
    "review = driver.find_elements(By.ID,'content-text')\n",
    "for i in review:\n",
    "    print(i.text)"
   ]
  },
  {
   "cell_type": "code",
   "execution_count": 11,
   "id": "efaef229",
   "metadata": {},
   "outputs": [
    {
     "data": {
      "text/plain": [
       "18"
      ]
     },
     "execution_count": 11,
     "metadata": {},
     "output_type": "execute_result"
    }
   ],
   "source": [
    "# 수집한 댓글의 길이 체크\n",
    "len(review)"
   ]
  },
  {
   "cell_type": "markdown",
   "id": "eb9e9dfa",
   "metadata": {},
   "source": [
    "# 스크롤 내리는 방법\n",
    "\n",
    "- 키보드의 END키를 활용\n",
    "- 전체 페이지를 움직이기 때문에 body태그를 접근\n",
    "- body태그에게 키보드의 END 값을 전달 > body.send_keys(Keys.END)\n",
    "- [주의점]\n",
    "- 반복 작업시 while문은 사용금지 > body는 계속 존재 > 무한루프\n",
    "- for문을 활용해서 많은 양의 반복을 통해 진행 추천"
   ]
  },
  {
   "cell_type": "code",
   "execution_count": 15,
   "id": "768e9470",
   "metadata": {},
   "outputs": [],
   "source": [
    "for i in range(100):\n",
    "    body = driver.find_element(By.TAG_NAME, 'body')\n",
    "    body.send_keys(Keys.END)\n",
    "    time.sleep(0.5)"
   ]
  }
 ],
 "metadata": {
  "kernelspec": {
   "display_name": "Python 3 (ipykernel)",
   "language": "python",
   "name": "python3"
  },
  "language_info": {
   "codemirror_mode": {
    "name": "ipython",
    "version": 3
   },
   "file_extension": ".py",
   "mimetype": "text/x-python",
   "name": "python",
   "nbconvert_exporter": "python",
   "pygments_lexer": "ipython3",
   "version": "3.9.12"
  },
  "toc": {
   "base_numbering": 1,
   "nav_menu": {},
   "number_sections": true,
   "sideBar": true,
   "skip_h1_title": false,
   "title_cell": "Table of Contents",
   "title_sidebar": "Contents",
   "toc_cell": false,
   "toc_position": {},
   "toc_section_display": true,
   "toc_window_display": false
  }
 },
 "nbformat": 4,
 "nbformat_minor": 5
}
