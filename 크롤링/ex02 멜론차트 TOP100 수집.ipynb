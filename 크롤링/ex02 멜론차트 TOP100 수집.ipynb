{
 "cells": [
  {
   "cell_type": "code",
   "execution_count": 1,
   "id": "52d03cbc",
   "metadata": {},
   "outputs": [],
   "source": [
    "import requests as req\n",
    "from bs4 import BeautifulSoup as bs"
   ]
  },
  {
   "cell_type": "code",
   "execution_count": 2,
   "id": "7d26f076",
   "metadata": {},
   "outputs": [
    {
     "data": {
      "text/plain": [
       "<Response [406]>"
      ]
     },
     "execution_count": 2,
     "metadata": {},
     "output_type": "execute_result"
    }
   ],
   "source": [
    "# 1. req를 활용해서 멜론차트 페이지 정보 용청해서 받아오기!\n",
    "# 2. <Response [406]> = 통신에 실패(요청에서 처리-클라이언트)\n",
    "# 3. 에러코드가 400번대(클라이언트), 500번대(서버)\n",
    "req.get(\"https://www.melon.com/chart/index.htm\")"
   ]
  },
  {
   "cell_type": "code",
   "execution_count": 3,
   "id": "63bd10b1",
   "metadata": {},
   "outputs": [],
   "source": [
    "# 브라우저인척 속이는 작업이 필요\n",
    "h = {'User-Agent':'Mozilla/5.0 (Windows NT 10.0; Win64; x64) AppleWebKit/537.36 (KHTML, like Gecko) Chrome/103.0.0.0 Safari/537.36'}"
   ]
  },
  {
   "cell_type": "code",
   "execution_count": 4,
   "id": "a4e45720",
   "metadata": {},
   "outputs": [],
   "source": [
    "res = req.get(\"https://www.melon.com/chart/index.htm\",headers = h)"
   ]
  },
  {
   "cell_type": "code",
   "execution_count": 5,
   "id": "488b5b56",
   "metadata": {},
   "outputs": [],
   "source": [
    "soup = bs(res.text, \"lxml\")"
   ]
  },
  {
   "cell_type": "markdown",
   "id": "c5c02e86",
   "metadata": {},
   "source": [
    "### 노래제목 수집"
   ]
  },
  {
   "cell_type": "code",
   "execution_count": 6,
   "id": "66c62d90",
   "metadata": {},
   "outputs": [],
   "source": [
    "# 노래제목에 해당하는 태그정보를 알아온 다음에,\n",
    "# soup.select() 노래제목만 수집\n",
    "data= soup.select(\"div.ellipsis.rank01 > span > a\")"
   ]
  },
  {
   "cell_type": "code",
   "execution_count": 7,
   "id": "63494b5a",
   "metadata": {
    "collapsed": true
   },
   "outputs": [
    {
     "name": "stdout",
     "output_type": "stream",
     "text": [
      "그때 그 순간 그대로 (그그그)\n",
      "보고싶었어\n",
      "POP!\n",
      "LOVE DIVE\n",
      "Clink Clink (클링 클링)\n",
      "TOMBOY\n",
      "That That (prod. & feat. SUGA of BTS)\n",
      "정이라고 하자 (Feat. 10CM)\n",
      "사랑인가 봐\n",
      "나의 X에게\n",
      "사랑은 늘 도망가\n",
      "우리들의 블루스\n",
      "Girls\n",
      "그라데이션\n",
      "LOVE me\n",
      "다시 만날 수 있을까\n",
      "봄여름가을겨울 (Still Life)\n",
      "FEARLESS\n",
      "Yet To Come\n",
      "Left and Right (Feat. Jung Kook of BTS)\n",
      "취중고백\n",
      "무지개\n",
      "내가 아니라도\n",
      "Feel My Rhythm\n",
      "이제 나만 믿어요\n",
      "아버지\n",
      "신호등\n",
      "아무래도 난\n",
      "I LOVE U\n",
      "ELEVEN\n",
      "손이 참 곱던 그대\n",
      "바보에게 바보가 (웹툰 '연애의 발견' X 이석훈)\n",
      "Love story\n",
      "A bientot\n",
      "사랑해 진짜\n",
      "인생찬가\n",
      "연애편지\n",
      "다정히 내 이름을 부르면\n",
      "사랑역\n",
      "MY BAG\n",
      "Dynamite\n",
      "Sparkling\n",
      "보금자리\n",
      "사랑해요 그대를\n",
      "GANADARA (Feat. 아이유)\n",
      "늦은 밤 헤어지긴 너무 아쉬워\n",
      "Butter\n",
      "That's Hilarious\n",
      "STAY\n",
      "고백하는 취한밤에 (Prod. 2soo)\n",
      "Next Level\n",
      "INVU\n",
      "열이올라요 (Heart Burn)\n",
      "팡파레\n",
      "듣고 싶을까\n",
      "없었던 일로\n",
      "도깨비불 (Illusion)\n",
      "Permission to Dance\n",
      "Weekend\n",
      "너의 모든 순간\n",
      "너를 생각해\n",
      "해요 (2022)\n",
      "SMILEY (Feat. BIBI)\n",
      "HOT\n",
      "ZOOM\n",
      "낭만교향곡 (Feat. CHANGMO, 박재범)\n",
      "Life′s Too Short (English Ver.)\n",
      "봄날\n",
      "드라마\n",
      "회전목마 (Feat. Zion.T, 원슈타인) (Prod. Slom)\n",
      "언제나 사랑해\n",
      "내 손을 잡아\n",
      "바라만 본다\n",
      "OHAYO MY NIGHT\n",
      "My Universe\n",
      "With you\n",
      "리무진 (Feat. MINO) (Prod. GRAY)\n",
      "strawberry moon\n",
      "그 하루(feat.반하나)\n",
      "모든 날, 모든 순간 (Every day, Every Moment)\n",
      "스물다섯, 스물하나\n",
      "작은 것들을 위한 시 (Boy With Luv) (Feat. Halsey)\n",
      "밤하늘의 별을(2020)\n",
      "Savage\n",
      "라일락\n",
      "Celebrity\n",
      "Off My Face\n",
      "미친 것처럼\n",
      "롤린 (Rollin')\n",
      "Born Singer\n",
      "Blueming\n",
      "눈이 오잖아(Feat.헤이즈)\n",
      "문득\n",
      "호랑수월가\n",
      "사이렌 Remix (Feat. UNEDUCATED KID, Paul Blanco)\n",
      "Bad Habits\n",
      "헤픈 우연\n",
      "고백\n",
      "찰나가 영원이 될 때 (The Eternal Moment)\n",
      "어떻게 이별까지 사랑하겠어, 널 사랑하는 거지\n"
     ]
    }
   ],
   "source": [
    "for i in data:\n",
    "    print(i.text)"
   ]
  },
  {
   "cell_type": "markdown",
   "id": "0f298f26",
   "metadata": {},
   "source": [
    "# 가수 100명 수집"
   ]
  },
  {
   "cell_type": "code",
   "execution_count": 8,
   "id": "cf92b51b",
   "metadata": {},
   "outputs": [],
   "source": [
    "# 가수명에 해당하는 태그명을  알아온 다음에\n",
    "# soup.select() 가수이름만 수집"
   ]
  },
  {
   "cell_type": "code",
   "execution_count": 9,
   "id": "40082d8e",
   "metadata": {},
   "outputs": [],
   "source": [
    "# 클래스값 사이에 공백이 있다는 의미는 클래스가 복수개\n",
    "# 공백을 지우고 .을 통해서 클래스를 이어준다.\n",
    "# 개수는 100개가 정확한데, 내용이 중복된다!\n",
    "# span태그가 보이진 않지만 태그가 존재함!\n",
    "# span만 통으로 가지고 와야 한다.\n",
    "data2 = soup.select(\"span.checkEllipsis\")"
   ]
  },
  {
   "cell_type": "code",
   "execution_count": 10,
   "id": "d442124a",
   "metadata": {
    "collapsed": true
   },
   "outputs": [
    {
     "name": "stdout",
     "output_type": "stream",
     "text": [
      "WSG워너비 (가야G)\n",
      "WSG워너비 (4FIRE)\n",
      "나연 (TWICE)\n",
      "IVE (아이브)\n",
      "WSG워너비 (오아시소)\n",
      "(여자)아이들\n",
      "싸이 (PSY)\n",
      "BIG Naughty (서동현)\n",
      "멜로망스\n",
      "경서\n",
      "임영웅\n",
      "임영웅\n",
      "aespa\n",
      "10CM\n",
      "BE'O (비오)\n",
      "임영웅\n",
      "BIGBANG (빅뱅)\n",
      "LE SSERAFIM (르세라핌)\n",
      "방탄소년단\n",
      "Charlie Puth, 정국, 방탄소년단\n",
      "김민석 (멜로망스)\n",
      "임영웅\n",
      "주호\n",
      "Red Velvet (레드벨벳)\n",
      "임영웅\n",
      "임영웅\n",
      "이무진\n",
      "주시크 (Joosiq)\n",
      "WINNER\n",
      "IVE (아이브)\n",
      "임영웅\n",
      "이석훈\n",
      "볼빨간사춘기\n",
      "임영웅\n",
      "임영웅\n",
      "임영웅\n",
      "임영웅\n",
      "경서예지, 전건호\n",
      "임영웅\n",
      "(여자)아이들\n",
      "방탄소년단\n",
      "청하\n",
      "임영웅\n",
      "임영웅\n",
      "박재범\n",
      "케이시 (Kassy)\n",
      "방탄소년단\n",
      "Charlie Puth\n",
      "The Kid LAROI, Justin Bieber\n",
      "임재현\n",
      "aespa\n",
      "태연 (TAEYEON)\n",
      "선미\n",
      "다비치\n",
      "MSG워너비(M.O.M)\n",
      "헤이즈 (Heize)\n",
      "aespa\n",
      "방탄소년단\n",
      "태연 (TAEYEON)\n",
      "성시경\n",
      "주시크 (Joosiq)\n",
      "#안녕\n",
      "YENA (최예나)\n",
      "세븐틴\n",
      "제시 (Jessi)\n",
      "BIG Naughty (서동현)\n",
      "aespa\n",
      "방탄소년단\n",
      "아이유\n",
      "sokodomo\n",
      "케이시 (Kassy)\n",
      "아이유\n",
      "MSG워너비(M.O.M)\n",
      "디핵 (D-Hack), PATEKO (파테코)\n",
      "Coldplay, 방탄소년단\n",
      "지민, 하성운\n",
      "BE'O (비오)\n",
      "아이유\n",
      "주호\n",
      "폴킴\n",
      "자우림\n",
      "방탄소년단\n",
      "경서\n",
      "aespa\n",
      "아이유\n",
      "아이유\n",
      "Justin Bieber\n",
      "V.O.S\n",
      "브레이브걸스\n",
      "방탄소년단\n",
      "아이유\n",
      "이무진\n",
      "BE'O (비오)\n",
      "탑현\n",
      "호미들\n",
      "Ed Sheeran\n",
      "헤이즈 (Heize)\n",
      "멜로망스\n",
      "마크툽 (MAKTUB)\n",
      "AKMU (악뮤)\n"
     ]
    }
   ],
   "source": [
    "for i in data2:\n",
    "    print(i.text)"
   ]
  },
  {
   "cell_type": "code",
   "execution_count": 11,
   "id": "bf17e86e",
   "metadata": {},
   "outputs": [
    {
     "name": "stdout",
     "output_type": "stream",
     "text": [
      "100\n"
     ]
    }
   ],
   "source": [
    "# 항상 데이터의 개수가 정확한지 검증학업이 필수★\n",
    "# 개수가 107개인 이유는 a태그를 각각 하나씩 들고왔기때문\n",
    "## (가수가 여러명인 경우) -> 해결책(가수전체를 포함한 태그를 수집)\n",
    "print(len(data2))"
   ]
  },
  {
   "cell_type": "code",
   "execution_count": 12,
   "id": "55a9220f",
   "metadata": {},
   "outputs": [],
   "source": [
    "# 수집한 데이터를 사용자가 사용할 수 있게 변형(태그를 삭제, 글자만 저장)\n",
    "# 순수한 텍스트 정보만 담긴 리스트 새로 제작\n",
    "singerList = [] # 순수한 가수 이름정보\n",
    "titleList = [] # 순수한 노래제목정보\n",
    "for i in range(len(data2)):\n",
    "    singerList.append(data2[i].text)\n",
    "    titleList.append(data[i].text)"
   ]
  },
  {
   "cell_type": "code",
   "execution_count": 15,
   "id": "dc4b3a52",
   "metadata": {},
   "outputs": [],
   "source": [
    "# 변형된 데이터를 표형식으로 제작\n",
    "import pandas as pd"
   ]
  },
  {
   "cell_type": "code",
   "execution_count": 16,
   "id": "498e72e0",
   "metadata": {},
   "outputs": [],
   "source": [
    "dic = {\"가수\" : singerList, \"노래제목\" : titleList}"
   ]
  },
  {
   "cell_type": "code",
   "execution_count": 18,
   "id": "fc860977",
   "metadata": {},
   "outputs": [],
   "source": [
    "melon = pd.DataFrame(dic)"
   ]
  },
  {
   "cell_type": "code",
   "execution_count": 20,
   "id": "e1033489",
   "metadata": {},
   "outputs": [],
   "source": [
    "# 표를 파일로 저장\n",
    "# 나 melon를 표를 csv 향태로 저장좀 해줘~\n",
    "# 한글을 저장할때는 인코딩 필수!\n",
    "# 인코딩 팁\n",
    "## 1. euc-kr\n",
    "## 2. utf-8\n",
    "## 3. utf-8-sig\n",
    "## 4. \"\"\n",
    "melon.to_csv(\"멜론차트.csv\", encoding=\"euc-kr\")"
   ]
  },
  {
   "cell_type": "code",
   "execution_count": null,
   "id": "725c351e",
   "metadata": {},
   "outputs": [],
   "source": []
  }
 ],
 "metadata": {
  "kernelspec": {
   "display_name": "Python 3 (ipykernel)",
   "language": "python",
   "name": "python3"
  },
  "language_info": {
   "codemirror_mode": {
    "name": "ipython",
    "version": 3
   },
   "file_extension": ".py",
   "mimetype": "text/x-python",
   "name": "python",
   "nbconvert_exporter": "python",
   "pygments_lexer": "ipython3",
   "version": "3.9.12"
  },
  "toc": {
   "base_numbering": 1,
   "nav_menu": {},
   "number_sections": true,
   "sideBar": true,
   "skip_h1_title": false,
   "title_cell": "Table of Contents",
   "title_sidebar": "Contents",
   "toc_cell": false,
   "toc_position": {},
   "toc_section_display": true,
   "toc_window_display": false
  }
 },
 "nbformat": 4,
 "nbformat_minor": 5
}
